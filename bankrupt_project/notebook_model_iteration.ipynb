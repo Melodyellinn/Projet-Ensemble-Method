{
 "cells": [
  {
   "cell_type": "markdown",
   "id": "611daac4",
   "metadata": {},
   "source": [
    "# Développez un programme d'IA pour la prédiction des faillites d'entreprises  "
   ]
  },
  {
   "cell_type": "markdown",
   "id": "ff352909",
   "metadata": {},
   "source": [
    "## Partie model"
   ]
  },
  {
   "cell_type": "markdown",
   "id": "20df41c8",
   "metadata": {},
   "source": [
    "### Importation des librairies"
   ]
  },
  {
   "cell_type": "code",
   "execution_count": 30,
   "id": "f3b6096d",
   "metadata": {},
   "outputs": [],
   "source": [
    "#!pip install imblearn"
   ]
  },
  {
   "cell_type": "code",
   "execution_count": 54,
   "id": "548e6848",
   "metadata": {},
   "outputs": [],
   "source": [
    "import pandas as pd\n",
    "import numpy as np\n",
    "\n",
    "#viz\n",
    "import matplotlib.pyplot as plt\n",
    "import seaborn as sns\n",
    "\n",
    "#imblearn, SMOTE\n",
    "import imblearn\n",
    "from imblearn.over_sampling import SMOTE\n",
    "\n",
    "import sklearn\n",
    "from sklearn.preprocessing import StandardScaler , RobustScaler, MinMaxScaler\n",
    "#classe pour l'ACP\n",
    "from sklearn.decomposition import PCA\n",
    "from sklearn.preprocessing import scale\n",
    "from sklearn import decomposition\n",
    "from sklearn import preprocessing\n",
    "from sklearn.linear_model import LogisticRegression\n",
    "\n",
    "#Model évaluation / ensemble models\n",
    "from sklearn.model_selection import train_test_split\n",
    "from sklearn.linear_model import SGDClassifier\n",
    "from sklearn.tree import DecisionTreeClassifier\n",
    "from sklearn.neighbors import KNeighborsClassifier\n",
    "from sklearn.ensemble import VotingClassifier\n",
    "from sklearn.ensemble import BaggingClassifier, RandomForestClassifier\n",
    "from sklearn.ensemble import AdaBoostClassifier, GradientBoostingClassifier\n",
    "from sklearn.ensemble import StackingClassifier\n",
    "\n",
    "#eval\n",
    "from statsmodels.stats.outliers_influence import variance_inflation_factor as vif\n",
    "from sklearn.inspection import permutation_importance\n",
    "from statsmodels.stats.outliers_influence import variance_inflation_factor as vif\n",
    "from sklearn.inspection import permutation_importance\n",
    "\n",
    "from sklearn.metrics import accuracy_score, precision_score, recall_score, f1_score, \\\n",
    "    confusion_matrix, classification_report\n",
    "\n",
    "# Tuning\n",
    "from sklearn.model_selection import GridSearchCV\n",
    "from sklearn.model_selection import RandomizedSearchCV\n",
    "from scipy import stats\n",
    "from sklearn.svm import SVC\n",
    "\n",
    "# Pipelines\n",
    "from sklearn.compose import ColumnTransformer\n",
    "from sklearn.preprocessing import FunctionTransformer\n",
    "from sklearn.pipeline import Pipeline\n",
    "from imblearn.pipeline import Pipeline as imbpipeline\n",
    "from sklearn.pipeline import FeatureUnion\n",
    "from sklearn.base import TransformerMixin, BaseEstimator\n",
    "from sklearn import set_config; set_config(display='diagram')\n",
    "\n",
    "import warnings\n",
    "warnings.filterwarnings(\"ignore\")"
   ]
  },
  {
   "cell_type": "markdown",
   "id": "077962fa",
   "metadata": {},
   "source": [
    "### Sommaire"
   ]
  },
  {
   "cell_type": "markdown",
   "id": "f5a8c80e",
   "metadata": {},
   "source": [
    "[Pipeline](#chapter1)  \n",
    "[Testing model](#chapter2)  \n",
    "[Result model](#chapter3)  \n",
    "[Evalution model](#chapter4)  \n",
    "[GridSearchcv](#chapter5)  "
   ]
  },
  {
   "cell_type": "code",
   "execution_count": 32,
   "id": "2f7a4738",
   "metadata": {},
   "outputs": [],
   "source": [
    "df = pd.read_csv('data/dataset_nopca.csv')"
   ]
  },
  {
   "cell_type": "markdown",
   "id": "eeadebf6",
   "metadata": {},
   "source": [
    "## Pipeline <a class=\"anchor\" id=\"chapter1\"></a>"
   ]
  },
  {
   "cell_type": "code",
   "execution_count": 87,
   "id": "f40f18c1",
   "metadata": {
    "scrolled": true
   },
   "outputs": [
    {
     "data": {
      "text/html": [
       "<style>div.sk-top-container {color: black;background-color: white;}div.sk-toggleable {background-color: white;}label.sk-toggleable__label {cursor: pointer;display: block;width: 100%;margin-bottom: 0;padding: 0.2em 0.3em;box-sizing: border-box;text-align: center;}div.sk-toggleable__content {max-height: 0;max-width: 0;overflow: hidden;text-align: left;background-color: #f0f8ff;}div.sk-toggleable__content pre {margin: 0.2em;color: black;border-radius: 0.25em;background-color: #f0f8ff;}input.sk-toggleable__control:checked~div.sk-toggleable__content {max-height: 200px;max-width: 100%;overflow: auto;}div.sk-estimator input.sk-toggleable__control:checked~label.sk-toggleable__label {background-color: #d4ebff;}div.sk-label input.sk-toggleable__control:checked~label.sk-toggleable__label {background-color: #d4ebff;}input.sk-hidden--visually {border: 0;clip: rect(1px 1px 1px 1px);clip: rect(1px, 1px, 1px, 1px);height: 1px;margin: -1px;overflow: hidden;padding: 0;position: absolute;width: 1px;}div.sk-estimator {font-family: monospace;background-color: #f0f8ff;margin: 0.25em 0.25em;border: 1px dotted black;border-radius: 0.25em;box-sizing: border-box;}div.sk-estimator:hover {background-color: #d4ebff;}div.sk-parallel-item::after {content: \"\";width: 100%;border-bottom: 1px solid gray;flex-grow: 1;}div.sk-label:hover label.sk-toggleable__label {background-color: #d4ebff;}div.sk-serial::before {content: \"\";position: absolute;border-left: 1px solid gray;box-sizing: border-box;top: 2em;bottom: 0;left: 50%;}div.sk-serial {display: flex;flex-direction: column;align-items: center;background-color: white;}div.sk-item {z-index: 1;}div.sk-parallel {display: flex;align-items: stretch;justify-content: center;background-color: white;}div.sk-parallel-item {display: flex;flex-direction: column;position: relative;background-color: white;}div.sk-parallel-item:first-child::after {align-self: flex-end;width: 50%;}div.sk-parallel-item:last-child::after {align-self: flex-start;width: 50%;}div.sk-parallel-item:only-child::after {width: 0;}div.sk-dashed-wrapped {border: 1px dashed gray;margin: 0.2em;box-sizing: border-box;padding-bottom: 0.1em;background-color: white;position: relative;}div.sk-label label {font-family: monospace;font-weight: bold;background-color: white;display: inline-block;line-height: 1.2em;}div.sk-label-container {position: relative;z-index: 2;text-align: center;}div.sk-container {display: inline-block;position: relative;}</style><div class=\"sk-top-container\"><div class=\"sk-container\"><div class=\"sk-item sk-dashed-wrapped\"><div class=\"sk-label-container\"><div class=\"sk-label sk-toggleable\"><input class=\"sk-toggleable__control sk-hidden--visually\" id=\"26ddfad5-f83e-4d0e-8e23-135be041ac28\" type=\"checkbox\" ><label class=\"sk-toggleable__label\" for=\"26ddfad5-f83e-4d0e-8e23-135be041ac28\">Pipeline</label><div class=\"sk-toggleable__content\"><pre>Pipeline(steps=[('balancing', SMOTE(random_state=1)),\n",
       "                ('scaling', RobustScaler()),\n",
       "                ('classifier',\n",
       "                 RandomForestClassifier(max_depth=10, n_estimators=400,\n",
       "                                        random_state=100))])</pre></div></div></div><div class=\"sk-serial\"><div class=\"sk-item\"><div class=\"sk-estimator sk-toggleable\"><input class=\"sk-toggleable__control sk-hidden--visually\" id=\"714eab08-11e3-4e2d-87a2-7d22580afed6\" type=\"checkbox\" ><label class=\"sk-toggleable__label\" for=\"714eab08-11e3-4e2d-87a2-7d22580afed6\">SMOTE</label><div class=\"sk-toggleable__content\"><pre>SMOTE(random_state=1)</pre></div></div></div><div class=\"sk-item\"><div class=\"sk-estimator sk-toggleable\"><input class=\"sk-toggleable__control sk-hidden--visually\" id=\"698aec81-5b18-4993-8258-092b1d298c54\" type=\"checkbox\" ><label class=\"sk-toggleable__label\" for=\"698aec81-5b18-4993-8258-092b1d298c54\">RobustScaler</label><div class=\"sk-toggleable__content\"><pre>RobustScaler()</pre></div></div></div><div class=\"sk-item\"><div class=\"sk-estimator sk-toggleable\"><input class=\"sk-toggleable__control sk-hidden--visually\" id=\"97c093a3-a8de-4b4d-ae84-f3f86591ebaf\" type=\"checkbox\" ><label class=\"sk-toggleable__label\" for=\"97c093a3-a8de-4b4d-ae84-f3f86591ebaf\">RandomForestClassifier</label><div class=\"sk-toggleable__content\"><pre>RandomForestClassifier(max_depth=10, n_estimators=400, random_state=100)</pre></div></div></div></div></div></div></div>"
      ],
      "text/plain": [
       "Pipeline(steps=[('balancing', SMOTE(random_state=1)),\n",
       "                ('scaling', RobustScaler()),\n",
       "                ('classifier',\n",
       "                 RandomForestClassifier(max_depth=10, n_estimators=400,\n",
       "                                        random_state=100))])"
      ]
     },
     "execution_count": 87,
     "metadata": {},
     "output_type": "execute_result"
    }
   ],
   "source": [
    "# Create a pipeline\n",
    "bagging_pipeline = imbpipeline([\n",
    "    (\"balancing\", SMOTE(random_state=1)),\n",
    "    (\"scaling\", RobustScaler()),\n",
    "    (\"classifier\", RandomForestClassifier(max_depth=10, n_estimators=400, random_state=100))\n",
    "])\n",
    "\n",
    "bagging_pipeline"
   ]
  },
  {
   "cell_type": "markdown",
   "id": "f3c05593",
   "metadata": {},
   "source": [
    "## Testing model <a class=\"anchor\" id=\"chapter2\"></a>"
   ]
  },
  {
   "cell_type": "code",
   "execution_count": 88,
   "id": "941862ea",
   "metadata": {
    "scrolled": true
   },
   "outputs": [
    {
     "name": "stdout",
     "output_type": "stream",
     "text": [
      "              precision    recall  f1-score   support\n",
      "\n",
      "           0       0.99      0.95      0.97      1987\n",
      "           1       0.25      0.54      0.34        59\n",
      "\n",
      "    accuracy                           0.94      2046\n",
      "   macro avg       0.62      0.75      0.66      2046\n",
      "weighted avg       0.96      0.94      0.95      2046\n",
      "\n"
     ]
    }
   ],
   "source": [
    "y= df['Bankrupt?_y']\n",
    "X= df.drop('Bankrupt?_y', axis=1)\n",
    "\n",
    "X_train, X_test, y_train, y_test = train_test_split(X, y,\n",
    "                                                    test_size= 0.3,\n",
    "                                                    random_state=0)\n",
    "\n",
    "pipe_training = bagging_pipeline.fit(X_train, y_train)\n",
    "\n",
    "y_pred = pipe_training.predict(X_test)\n",
    "\n",
    "print(classification_report(y_test, y_pred))"
   ]
  },
  {
   "cell_type": "code",
   "execution_count": 89,
   "id": "02ef574c",
   "metadata": {
    "scrolled": true
   },
   "outputs": [
    {
     "data": {
      "image/png": "[encoded data removed]",
      "text/plain": [
       "<Figure size 432x288 with 2 Axes>"
      ]
     },
     "metadata": {
      "needs_background": "light"
     },
     "output_type": "display_data"
    }
   ],
   "source": [
    "conf_mat_2 = confusion_matrix(y_test, y_pred)\n",
    "sns.heatmap(conf_mat_2, annot=True, fmt=\"d\", cmap=\"Reds\")\n",
    "plt.title(\"Confusion matrix of second iteration\")\n",
    "plt.xlabel(\"Predicted\")\n",
    "plt.ylabel(\"Actual\")\n",
    "plt.show()"
   ]
  },
  {
   "cell_type": "markdown",
   "id": "ed191551",
   "metadata": {},
   "source": [
    "## Result model <a class=\"anchor\" id=\"chapter3\"></a>"
   ]
  },
  {
   "cell_type": "markdown",
   "id": "acea9ff7",
   "metadata": {},
   "source": [
    "BaggingClassifier(max_samples=0.1, n_estimators=3)  \n",
    "score recall = 0.56  "
   ]
  },
  {
   "attachments": {
    "Screenshot_3.png": {
     "image/png": "[encoded data removed]"
    }
   },
   "cell_type": "markdown",
   "id": "8dfa7ce2",
   "metadata": {},
   "source": [
    "![Screenshot_3.png](attachment:Screenshot_3.png)"
   ]
  },
  {
   "cell_type": "markdown",
   "id": "34f4053d",
   "metadata": {},
   "source": [
    "RandomForestClassifier(max_depth=10, n_estimators=400, random_state=100)"
   ]
  },
  {
   "attachments": {
    "Screenshot_7.png": {
     "image/png": "[encoded data removed]"
    }
   },
   "cell_type": "markdown",
   "id": "bb1787bc",
   "metadata": {},
   "source": [
    "![Screenshot_7.png](attachment:Screenshot_7.png)"
   ]
  },
  {
   "attachments": {
    "Screenshot_8.png": {
     "image/png": "[encoded data removed]"
    }
   },
   "cell_type": "markdown",
   "id": "896e9651",
   "metadata": {},
   "source": [
    "![Screenshot_8.png](attachment:Screenshot_8.png)"
   ]
  },
  {
   "cell_type": "code",
   "execution_count": null,
   "id": "20b59685",
   "metadata": {},
   "outputs": [],
   "source": []
  },
  {
   "cell_type": "markdown",
   "id": "85cc02dc",
   "metadata": {},
   "source": [
    "## Evalution Model <a class=\"anchor\" id=\"chapter4\"></a>"
   ]
  },
  {
   "cell_type": "code",
   "execution_count": 9,
   "id": "a1e5574e",
   "metadata": {},
   "outputs": [
    {
     "name": "stdout",
     "output_type": "stream",
     "text": [
      "              precision    recall  f1-score   support\n",
      "\n",
      "           0       0.98      0.97      0.97      1987\n",
      "           1       0.24      0.34      0.28        59\n",
      "\n",
      "    accuracy                           0.95      2046\n",
      "   macro avg       0.61      0.65      0.63      2046\n",
      "weighted avg       0.96      0.95      0.95      2046\n",
      "\n",
      "SGDClassifier 0.9501466275659824\n",
      "----------------------------------------------------\n",
      "----------------------------------------------------\n",
      "              precision    recall  f1-score   support\n",
      "\n",
      "           0       0.98      0.97      0.97      1987\n",
      "           1       0.21      0.27      0.24        59\n",
      "\n",
      "    accuracy                           0.95      2046\n",
      "   macro avg       0.59      0.62      0.61      2046\n",
      "weighted avg       0.96      0.95      0.95      2046\n",
      "\n",
      "DecisionTreeClassifier 0.9496578690127078\n",
      "----------------------------------------------------\n",
      "----------------------------------------------------\n",
      "              precision    recall  f1-score   support\n",
      "\n",
      "           0       0.98      0.99      0.99      1987\n",
      "           1       0.50      0.17      0.25        59\n",
      "\n",
      "    accuracy                           0.97      2046\n",
      "   macro avg       0.74      0.58      0.62      2046\n",
      "weighted avg       0.96      0.97      0.96      2046\n",
      "\n",
      "KNeighborsClassifier 0.9711632453567938\n",
      "----------------------------------------------------\n",
      "----------------------------------------------------\n",
      "              precision    recall  f1-score   support\n",
      "\n",
      "           0       0.98      0.99      0.99      1987\n",
      "           1       0.48      0.17      0.25        59\n",
      "\n",
      "    accuracy                           0.97      2046\n",
      "   macro avg       0.73      0.58      0.62      2046\n",
      "weighted avg       0.96      0.97      0.96      2046\n",
      "\n",
      "RandomForestClassifier 0.9706744868035191\n",
      "----------------------------------------------------\n",
      "----------------------------------------------------\n",
      "              precision    recall  f1-score   support\n",
      "\n",
      "           0       0.98      0.99      0.98      1987\n",
      "           1       0.36      0.25      0.30        59\n",
      "\n",
      "    accuracy                           0.97      2046\n",
      "   macro avg       0.67      0.62      0.64      2046\n",
      "weighted avg       0.96      0.97      0.96      2046\n",
      "\n",
      "GradientBoostingClassifier 0.9652981427174976\n",
      "----------------------------------------------------\n",
      "----------------------------------------------------\n",
      "              precision    recall  f1-score   support\n",
      "\n",
      "           0       0.98      0.99      0.98      1987\n",
      "           1       0.41      0.19      0.26        59\n",
      "\n",
      "    accuracy                           0.97      2046\n",
      "   macro avg       0.69      0.59      0.62      2046\n",
      "weighted avg       0.96      0.97      0.96      2046\n",
      "\n",
      "VotingClassifier 0.9687194525904204\n",
      "----------------------------------------------------\n",
      "----------------------------------------------------\n"
     ]
    }
   ],
   "source": [
    "model_1 = SGDClassifier(random_state=0)\n",
    "model_2 = DecisionTreeClassifier(random_state=0)\n",
    "model_3 = KNeighborsClassifier(n_neighbors=2)\n",
    "model_4 = RandomForestClassifier(n_estimators=100)\n",
    "model_5 = GradientBoostingClassifier(n_estimators=100)\n",
    "\n",
    "model_6 = VotingClassifier([('SGD', model_1),\n",
    "                           ('Tree', model_2),\n",
    "                           ('KNN', model_3),\n",
    "                            ('Forest', model_4),\n",
    "                           ('GBC', model_5)],\n",
    "                           voting='hard')\n",
    "\n",
    "\n",
    "for model in (model_1, model_2, model_3, model_4, model_5, model_6):\n",
    "    model.fit(X_train, y_train)\n",
    "    result_tmp = model.predict(X_test)\n",
    "    print(classification_report(y_test,result_tmp))\n",
    "    print(model.__class__.__name__, model.score(X_test, y_test))\n",
    "    print(\"----------------------------------------------------\")\n",
    "    print(\"----------------------------------------------------\")"
   ]
  },
  {
   "cell_type": "code",
   "execution_count": 10,
   "id": "3fcc6e3f",
   "metadata": {},
   "outputs": [
    {
     "name": "stdout",
     "output_type": "stream",
     "text": [
      "              precision    recall  f1-score   support\n",
      "\n",
      "           0       0.98      0.99      0.98      1987\n",
      "           1       0.46      0.19      0.27        59\n",
      "\n",
      "    accuracy                           0.97      2046\n",
      "   macro avg       0.72      0.59      0.62      2046\n",
      "weighted avg       0.96      0.97      0.96      2046\n",
      "\n"
     ]
    }
   ],
   "source": [
    "model_7 = BaggingClassifier(base_estimator=KNeighborsClassifier(),\n",
    "                         n_estimators=100)\n",
    "\n",
    "model_7.fit(X_train, y_train)\n",
    "model_7.score(X_test, y_test)\n",
    "result_tmp_ = model_7.predict(X_test)\n",
    "print(classification_report(y_test,result_tmp_))"
   ]
  },
  {
   "cell_type": "code",
   "execution_count": 11,
   "id": "625e334f",
   "metadata": {
    "scrolled": true
   },
   "outputs": [
    {
     "name": "stdout",
     "output_type": "stream",
     "text": [
      "              precision    recall  f1-score   support\n",
      "\n",
      "           0       0.98      0.98      0.98      1987\n",
      "           1       0.36      0.29      0.32        59\n",
      "\n",
      "    accuracy                           0.96      2046\n",
      "   macro avg       0.67      0.64      0.65      2046\n",
      "weighted avg       0.96      0.96      0.96      2046\n",
      "\n"
     ]
    }
   ],
   "source": [
    "model_8 = StackingClassifier([('SGD', model_1),\n",
    "                              ('Tree', model_2),\n",
    "                              ('KNN', model_3),\n",
    "                              ('Forest', model_4),\n",
    "                              ('GBC', model_5),\n",
    "                             ('BaggCla', model_7)],\n",
    "                             final_estimator=KNeighborsClassifier())\n",
    "\n",
    "\n",
    "model_8.fit(X_train, y_train)\n",
    "model_8.score(X_test, y_test)\n",
    "result_tmp_ = model_8.predict(X_test)\n",
    "print(classification_report(y_test,result_tmp_))"
   ]
  },
  {
   "cell_type": "code",
   "execution_count": null,
   "id": "57beb92a",
   "metadata": {},
   "outputs": [],
   "source": []
  },
  {
   "cell_type": "markdown",
   "id": "fce7a6f1",
   "metadata": {},
   "source": [
    "## GridSearchcv <a class=\"anchor\" id=\"chapter5\"></a>"
   ]
  },
  {
   "cell_type": "code",
   "execution_count": 67,
   "id": "efae86f6",
   "metadata": {},
   "outputs": [],
   "source": [
    "# #BaggingClassifier\n",
    "# param_grid = {\n",
    "#     'classifier__n_estimators' : [1, 2, 3, 4, 5],\n",
    "#     'classifier__max_samples' : [0.05, 0.1, 0.2, 0.5]\n",
    "# }"
   ]
  },
  {
   "cell_type": "code",
   "execution_count": 78,
   "id": "e75c4a6a",
   "metadata": {},
   "outputs": [],
   "source": [
    "#search key for params\n",
    "rnd_search = GridSearchCV(bagging_pipeline, param_grid= param_grid)"
   ]
  },
  {
   "cell_type": "code",
   "execution_count": 79,
   "id": "2b4f67e4",
   "metadata": {},
   "outputs": [
    {
     "name": "stdout",
     "output_type": "stream",
     "text": [
      "cv\n",
      "error_score\n",
      "estimator__memory\n",
      "estimator__steps\n",
      "estimator__verbose\n",
      "estimator__balancing\n",
      "estimator__scaling\n",
      "estimator__classifier\n",
      "estimator__balancing__k_neighbors\n",
      "estimator__balancing__n_jobs\n",
      "estimator__balancing__random_state\n",
      "estimator__balancing__sampling_strategy\n",
      "estimator__scaling__copy\n",
      "estimator__scaling__quantile_range\n",
      "estimator__scaling__unit_variance\n",
      "estimator__scaling__with_centering\n",
      "estimator__scaling__with_scaling\n",
      "estimator__classifier__bootstrap\n",
      "estimator__classifier__ccp_alpha\n",
      "estimator__classifier__class_weight\n",
      "estimator__classifier__criterion\n",
      "estimator__classifier__max_depth\n",
      "estimator__classifier__max_features\n",
      "estimator__classifier__max_leaf_nodes\n",
      "estimator__classifier__max_samples\n",
      "estimator__classifier__min_impurity_decrease\n",
      "estimator__classifier__min_impurity_split\n",
      "estimator__classifier__min_samples_leaf\n",
      "estimator__classifier__min_samples_split\n",
      "estimator__classifier__min_weight_fraction_leaf\n",
      "estimator__classifier__n_estimators\n",
      "estimator__classifier__n_jobs\n",
      "estimator__classifier__oob_score\n",
      "estimator__classifier__random_state\n",
      "estimator__classifier__verbose\n",
      "estimator__classifier__warm_start\n",
      "estimator\n",
      "n_jobs\n",
      "param_grid\n",
      "pre_dispatch\n",
      "refit\n",
      "return_train_score\n",
      "scoring\n",
      "verbose\n"
     ]
    }
   ],
   "source": [
    "for param in rnd_search.get_params().keys():\n",
    "    print(param)"
   ]
  },
  {
   "cell_type": "code",
   "execution_count": 84,
   "id": "17ad2996",
   "metadata": {},
   "outputs": [],
   "source": [
    "param_grid = {\n",
    "    'classifier__n_estimators' : [200, 400],\n",
    "    'classifier__random_state' : [100, 200],\n",
    "    'classifier__max_features': ['auto', 'sqrt'],\n",
    "    'classifier__bootstrap' : [True, False],\n",
    "    'classifier__max_depth' : [10, 20, None]\n",
    "}"
   ]
  },
  {
   "cell_type": "code",
   "execution_count": 85,
   "id": "d4c4b25c",
   "metadata": {},
   "outputs": [
    {
     "name": "stdout",
     "output_type": "stream",
     "text": [
      "Fitting 5 folds for each of 48 candidates, totalling 240 fits\n",
      "[CV 1/5] END classifier__bootstrap=True, classifier__max_depth=10, classifier__max_features=auto, classifier__n_estimators=200, classifier__random_state=100; total time=   7.6s\n",
      "[CV 2/5] END classifier__bootstrap=True, classifier__max_depth=10, classifier__max_features=auto, classifier__n_estimators=200, classifier__random_state=100; total time=   7.7s\n",
      "[CV 3/5] END classifier__bootstrap=True, classifier__max_depth=10, classifier__max_features=auto, classifier__n_estimators=200, classifier__random_state=100; total time=   8.0s\n",
      "[CV 4/5] END classifier__bootstrap=True, classifier__max_depth=10, classifier__max_features=auto, classifier__n_estimators=200, classifier__random_state=100; total time=   8.5s\n",
      "[CV 5/5] END classifier__bootstrap=True, classifier__max_depth=10, classifier__max_features=auto, classifier__n_estimators=200, classifier__random_state=100; total time=   8.0s\n",
      "[CV 1/5] END classifier__bootstrap=True, classifier__max_depth=10, classifier__max_features=auto, classifier__n_estimators=200, classifier__random_state=200; total time=   8.5s\n",
      "[CV 2/5] END classifier__bootstrap=True, classifier__max_depth=10, classifier__max_features=auto, classifier__n_estimators=200, classifier__random_state=200; total time=   7.6s\n",
      "[CV 3/5] END classifier__bootstrap=True, classifier__max_depth=10, classifier__max_features=auto, classifier__n_estimators=200, classifier__random_state=200; total time=   7.6s\n",
      "[CV 4/5] END classifier__bootstrap=True, classifier__max_depth=10, classifier__max_features=auto, classifier__n_estimators=200, classifier__random_state=200; total time=   7.4s\n",
      "[CV 5/5] END classifier__bootstrap=True, classifier__max_depth=10, classifier__max_features=auto, classifier__n_estimators=200, classifier__random_state=200; total time=   7.6s\n",
      "[CV 1/5] END classifier__bootstrap=True, classifier__max_depth=10, classifier__max_features=auto, classifier__n_estimators=400, classifier__random_state=100; total time=  15.3s\n",
      "[CV 2/5] END classifier__bootstrap=True, classifier__max_depth=10, classifier__max_features=auto, classifier__n_estimators=400, classifier__random_state=100; total time=  15.3s\n",
      "[CV 3/5] END classifier__bootstrap=True, classifier__max_depth=10, classifier__max_features=auto, classifier__n_estimators=400, classifier__random_state=100; total time=  15.0s\n",
      "[CV 4/5] END classifier__bootstrap=True, classifier__max_depth=10, classifier__max_features=auto, classifier__n_estimators=400, classifier__random_state=100; total time=  14.9s\n",
      "[CV 5/5] END classifier__bootstrap=True, classifier__max_depth=10, classifier__max_features=auto, classifier__n_estimators=400, classifier__random_state=100; total time=  15.2s\n",
      "[CV 1/5] END classifier__bootstrap=True, classifier__max_depth=10, classifier__max_features=auto, classifier__n_estimators=400, classifier__random_state=200; total time=  15.3s\n",
      "[CV 2/5] END classifier__bootstrap=True, classifier__max_depth=10, classifier__max_features=auto, classifier__n_estimators=400, classifier__random_state=200; total time=  15.0s\n",
      "[CV 3/5] END classifier__bootstrap=True, classifier__max_depth=10, classifier__max_features=auto, classifier__n_estimators=400, classifier__random_state=200; total time=  15.1s\n",
      "[CV 4/5] END classifier__bootstrap=True, classifier__max_depth=10, classifier__max_features=auto, classifier__n_estimators=400, classifier__random_state=200; total time=  15.3s\n",
      "[CV 5/5] END classifier__bootstrap=True, classifier__max_depth=10, classifier__max_features=auto, classifier__n_estimators=400, classifier__random_state=200; total time=  15.2s\n",
      "[CV 1/5] END classifier__bootstrap=True, classifier__max_depth=10, classifier__max_features=sqrt, classifier__n_estimators=200, classifier__random_state=100; total time=   7.7s\n",
      "[CV 2/5] END classifier__bootstrap=True, classifier__max_depth=10, classifier__max_features=sqrt, classifier__n_estimators=200, classifier__random_state=100; total time=   7.5s\n",
      "[CV 3/5] END classifier__bootstrap=True, classifier__max_depth=10, classifier__max_features=sqrt, classifier__n_estimators=200, classifier__random_state=100; total time=   7.4s\n",
      "[CV 4/5] END classifier__bootstrap=True, classifier__max_depth=10, classifier__max_features=sqrt, classifier__n_estimators=200, classifier__random_state=100; total time=   7.4s\n",
      "[CV 5/5] END classifier__bootstrap=True, classifier__max_depth=10, classifier__max_features=sqrt, classifier__n_estimators=200, classifier__random_state=100; total time=   7.6s\n",
      "[CV 1/5] END classifier__bootstrap=True, classifier__max_depth=10, classifier__max_features=sqrt, classifier__n_estimators=200, classifier__random_state=200; total time=   7.6s\n",
      "[CV 2/5] END classifier__bootstrap=True, classifier__max_depth=10, classifier__max_features=sqrt, classifier__n_estimators=200, classifier__random_state=200; total time=   7.7s\n",
      "[CV 3/5] END classifier__bootstrap=True, classifier__max_depth=10, classifier__max_features=sqrt, classifier__n_estimators=200, classifier__random_state=200; total time=   7.5s\n",
      "[CV 4/5] END classifier__bootstrap=True, classifier__max_depth=10, classifier__max_features=sqrt, classifier__n_estimators=200, classifier__random_state=200; total time=   7.5s\n",
      "[CV 5/5] END classifier__bootstrap=True, classifier__max_depth=10, classifier__max_features=sqrt, classifier__n_estimators=200, classifier__random_state=200; total time=   7.6s\n",
      "[CV 1/5] END classifier__bootstrap=True, classifier__max_depth=10, classifier__max_features=sqrt, classifier__n_estimators=400, classifier__random_state=100; total time=  16.2s\n",
      "[CV 2/5] END classifier__bootstrap=True, classifier__max_depth=10, classifier__max_features=sqrt, classifier__n_estimators=400, classifier__random_state=100; total time=  15.4s\n",
      "[CV 3/5] END classifier__bootstrap=True, classifier__max_depth=10, classifier__max_features=sqrt, classifier__n_estimators=400, classifier__random_state=100; total time=  15.2s\n",
      "[CV 4/5] END classifier__bootstrap=True, classifier__max_depth=10, classifier__max_features=sqrt, classifier__n_estimators=400, classifier__random_state=100; total time=  15.6s\n",
      "[CV 5/5] END classifier__bootstrap=True, classifier__max_depth=10, classifier__max_features=sqrt, classifier__n_estimators=400, classifier__random_state=100; total time=  15.2s\n",
      "[CV 1/5] END classifier__bootstrap=True, classifier__max_depth=10, classifier__max_features=sqrt, classifier__n_estimators=400, classifier__random_state=200; total time=  15.3s\n",
      "[CV 2/5] END classifier__bootstrap=True, classifier__max_depth=10, classifier__max_features=sqrt, classifier__n_estimators=400, classifier__random_state=200; total time=  15.1s\n",
      "[CV 3/5] END classifier__bootstrap=True, classifier__max_depth=10, classifier__max_features=sqrt, classifier__n_estimators=400, classifier__random_state=200; total time=  14.9s\n",
      "[CV 4/5] END classifier__bootstrap=True, classifier__max_depth=10, classifier__max_features=sqrt, classifier__n_estimators=400, classifier__random_state=200; total time=  14.9s\n",
      "[CV 5/5] END classifier__bootstrap=True, classifier__max_depth=10, classifier__max_features=sqrt, classifier__n_estimators=400, classifier__random_state=200; total time=  15.2s\n",
      "[CV 1/5] END classifier__bootstrap=True, classifier__max_depth=20, classifier__max_features=auto, classifier__n_estimators=200, classifier__random_state=100; total time=  10.5s\n",
      "[CV 2/5] END classifier__bootstrap=True, classifier__max_depth=20, classifier__max_features=auto, classifier__n_estimators=200, classifier__random_state=100; total time=  10.4s\n",
      "[CV 3/5] END classifier__bootstrap=True, classifier__max_depth=20, classifier__max_features=auto, classifier__n_estimators=200, classifier__random_state=100; total time=  10.2s\n",
      "[CV 4/5] END classifier__bootstrap=True, classifier__max_depth=20, classifier__max_features=auto, classifier__n_estimators=200, classifier__random_state=100; total time=  10.1s\n",
      "[CV 5/5] END classifier__bootstrap=True, classifier__max_depth=20, classifier__max_features=auto, classifier__n_estimators=200, classifier__random_state=100; total time=  11.1s\n",
      "[CV 1/5] END classifier__bootstrap=True, classifier__max_depth=20, classifier__max_features=auto, classifier__n_estimators=200, classifier__random_state=200; total time=  10.8s\n"
     ]
    },
    {
     "name": "stdout",
     "output_type": "stream",
     "text": [
      "[CV 2/5] END classifier__bootstrap=True, classifier__max_depth=20, classifier__max_features=auto, classifier__n_estimators=200, classifier__random_state=200; total time=  10.3s\n",
      "[CV 3/5] END classifier__bootstrap=True, classifier__max_depth=20, classifier__max_features=auto, classifier__n_estimators=200, classifier__random_state=200; total time=  10.3s\n",
      "[CV 4/5] END classifier__bootstrap=True, classifier__max_depth=20, classifier__max_features=auto, classifier__n_estimators=200, classifier__random_state=200; total time=  10.0s\n",
      "[CV 5/5] END classifier__bootstrap=True, classifier__max_depth=20, classifier__max_features=auto, classifier__n_estimators=200, classifier__random_state=200; total time=  10.6s\n",
      "[CV 1/5] END classifier__bootstrap=True, classifier__max_depth=20, classifier__max_features=auto, classifier__n_estimators=400, classifier__random_state=100; total time=  21.0s\n",
      "[CV 2/5] END classifier__bootstrap=True, classifier__max_depth=20, classifier__max_features=auto, classifier__n_estimators=400, classifier__random_state=100; total time=  21.2s\n",
      "[CV 3/5] END classifier__bootstrap=True, classifier__max_depth=20, classifier__max_features=auto, classifier__n_estimators=400, classifier__random_state=100; total time=  21.1s\n",
      "[CV 4/5] END classifier__bootstrap=True, classifier__max_depth=20, classifier__max_features=auto, classifier__n_estimators=400, classifier__random_state=100; total time=  20.6s\n",
      "[CV 5/5] END classifier__bootstrap=True, classifier__max_depth=20, classifier__max_features=auto, classifier__n_estimators=400, classifier__random_state=100; total time=  20.4s\n",
      "[CV 1/5] END classifier__bootstrap=True, classifier__max_depth=20, classifier__max_features=auto, classifier__n_estimators=400, classifier__random_state=200; total time=  21.0s\n",
      "[CV 2/5] END classifier__bootstrap=True, classifier__max_depth=20, classifier__max_features=auto, classifier__n_estimators=400, classifier__random_state=200; total time=  20.7s\n",
      "[CV 3/5] END classifier__bootstrap=True, classifier__max_depth=20, classifier__max_features=auto, classifier__n_estimators=400, classifier__random_state=200; total time=  23.3s\n",
      "[CV 4/5] END classifier__bootstrap=True, classifier__max_depth=20, classifier__max_features=auto, classifier__n_estimators=400, classifier__random_state=200; total time=  22.6s\n",
      "[CV 5/5] END classifier__bootstrap=True, classifier__max_depth=20, classifier__max_features=auto, classifier__n_estimators=400, classifier__random_state=200; total time=  21.3s\n",
      "[CV 1/5] END classifier__bootstrap=True, classifier__max_depth=20, classifier__max_features=sqrt, classifier__n_estimators=200, classifier__random_state=100; total time=  10.9s\n",
      "[CV 2/5] END classifier__bootstrap=True, classifier__max_depth=20, classifier__max_features=sqrt, classifier__n_estimators=200, classifier__random_state=100; total time=  10.8s\n",
      "[CV 3/5] END classifier__bootstrap=True, classifier__max_depth=20, classifier__max_features=sqrt, classifier__n_estimators=200, classifier__random_state=100; total time=  11.0s\n",
      "[CV 4/5] END classifier__bootstrap=True, classifier__max_depth=20, classifier__max_features=sqrt, classifier__n_estimators=200, classifier__random_state=100; total time=  10.9s\n",
      "[CV 5/5] END classifier__bootstrap=True, classifier__max_depth=20, classifier__max_features=sqrt, classifier__n_estimators=200, classifier__random_state=100; total time=  10.8s\n",
      "[CV 1/5] END classifier__bootstrap=True, classifier__max_depth=20, classifier__max_features=sqrt, classifier__n_estimators=200, classifier__random_state=200; total time=  11.4s\n",
      "[CV 2/5] END classifier__bootstrap=True, classifier__max_depth=20, classifier__max_features=sqrt, classifier__n_estimators=200, classifier__random_state=200; total time=  10.2s\n",
      "[CV 3/5] END classifier__bootstrap=True, classifier__max_depth=20, classifier__max_features=sqrt, classifier__n_estimators=200, classifier__random_state=200; total time=  10.2s\n",
      "[CV 4/5] END classifier__bootstrap=True, classifier__max_depth=20, classifier__max_features=sqrt, classifier__n_estimators=200, classifier__random_state=200; total time=  10.0s\n",
      "[CV 5/5] END classifier__bootstrap=True, classifier__max_depth=20, classifier__max_features=sqrt, classifier__n_estimators=200, classifier__random_state=200; total time=  10.3s\n",
      "[CV 1/5] END classifier__bootstrap=True, classifier__max_depth=20, classifier__max_features=sqrt, classifier__n_estimators=400, classifier__random_state=100; total time=  20.9s\n",
      "[CV 2/5] END classifier__bootstrap=True, classifier__max_depth=20, classifier__max_features=sqrt, classifier__n_estimators=400, classifier__random_state=100; total time=  22.5s\n",
      "[CV 3/5] END classifier__bootstrap=True, classifier__max_depth=20, classifier__max_features=sqrt, classifier__n_estimators=400, classifier__random_state=100; total time=  21.4s\n",
      "[CV 4/5] END classifier__bootstrap=True, classifier__max_depth=20, classifier__max_features=sqrt, classifier__n_estimators=400, classifier__random_state=100; total time=  20.1s\n",
      "[CV 5/5] END classifier__bootstrap=True, classifier__max_depth=20, classifier__max_features=sqrt, classifier__n_estimators=400, classifier__random_state=100; total time=  20.4s\n",
      "[CV 1/5] END classifier__bootstrap=True, classifier__max_depth=20, classifier__max_features=sqrt, classifier__n_estimators=400, classifier__random_state=200; total time=  20.9s\n",
      "[CV 2/5] END classifier__bootstrap=True, classifier__max_depth=20, classifier__max_features=sqrt, classifier__n_estimators=400, classifier__random_state=200; total time=  20.5s\n",
      "[CV 3/5] END classifier__bootstrap=True, classifier__max_depth=20, classifier__max_features=sqrt, classifier__n_estimators=400, classifier__random_state=200; total time=  20.4s\n",
      "[CV 4/5] END classifier__bootstrap=True, classifier__max_depth=20, classifier__max_features=sqrt, classifier__n_estimators=400, classifier__random_state=200; total time=  20.1s\n",
      "[CV 5/5] END classifier__bootstrap=True, classifier__max_depth=20, classifier__max_features=sqrt, classifier__n_estimators=400, classifier__random_state=200; total time=  20.3s\n",
      "[CV 1/5] END classifier__bootstrap=True, classifier__max_depth=None, classifier__max_features=auto, classifier__n_estimators=200, classifier__random_state=100; total time=  11.3s\n",
      "[CV 2/5] END classifier__bootstrap=True, classifier__max_depth=None, classifier__max_features=auto, classifier__n_estimators=200, classifier__random_state=100; total time=  11.3s\n",
      "[CV 3/5] END classifier__bootstrap=True, classifier__max_depth=None, classifier__max_features=auto, classifier__n_estimators=200, classifier__random_state=100; total time=  11.2s\n",
      "[CV 4/5] END classifier__bootstrap=True, classifier__max_depth=None, classifier__max_features=auto, classifier__n_estimators=200, classifier__random_state=100; total time=  10.6s\n",
      "[CV 5/5] END classifier__bootstrap=True, classifier__max_depth=None, classifier__max_features=auto, classifier__n_estimators=200, classifier__random_state=100; total time=  10.8s\n",
      "[CV 1/5] END classifier__bootstrap=True, classifier__max_depth=None, classifier__max_features=auto, classifier__n_estimators=200, classifier__random_state=200; total time=  11.5s\n",
      "[CV 2/5] END classifier__bootstrap=True, classifier__max_depth=None, classifier__max_features=auto, classifier__n_estimators=200, classifier__random_state=200; total time=  11.1s\n",
      "[CV 3/5] END classifier__bootstrap=True, classifier__max_depth=None, classifier__max_features=auto, classifier__n_estimators=200, classifier__random_state=200; total time=  11.5s\n",
      "[CV 4/5] END classifier__bootstrap=True, classifier__max_depth=None, classifier__max_features=auto, classifier__n_estimators=200, classifier__random_state=200; total time=  10.5s\n",
      "[CV 5/5] END classifier__bootstrap=True, classifier__max_depth=None, classifier__max_features=auto, classifier__n_estimators=200, classifier__random_state=200; total time=  11.0s\n",
      "[CV 1/5] END classifier__bootstrap=True, classifier__max_depth=None, classifier__max_features=auto, classifier__n_estimators=400, classifier__random_state=100; total time=  23.3s\n",
      "[CV 2/5] END classifier__bootstrap=True, classifier__max_depth=None, classifier__max_features=auto, classifier__n_estimators=400, classifier__random_state=100; total time=  22.7s\n",
      "[CV 3/5] END classifier__bootstrap=True, classifier__max_depth=None, classifier__max_features=auto, classifier__n_estimators=400, classifier__random_state=100; total time=  22.5s\n"
     ]
    },
    {
     "name": "stdout",
     "output_type": "stream",
     "text": [
      "[CV 4/5] END classifier__bootstrap=True, classifier__max_depth=None, classifier__max_features=auto, classifier__n_estimators=400, classifier__random_state=100; total time=  21.3s\n",
      "[CV 5/5] END classifier__bootstrap=True, classifier__max_depth=None, classifier__max_features=auto, classifier__n_estimators=400, classifier__random_state=100; total time=  21.4s\n",
      "[CV 1/5] END classifier__bootstrap=True, classifier__max_depth=None, classifier__max_features=auto, classifier__n_estimators=400, classifier__random_state=200; total time=  23.0s\n",
      "[CV 2/5] END classifier__bootstrap=True, classifier__max_depth=None, classifier__max_features=auto, classifier__n_estimators=400, classifier__random_state=200; total time=  22.7s\n",
      "[CV 3/5] END classifier__bootstrap=True, classifier__max_depth=None, classifier__max_features=auto, classifier__n_estimators=400, classifier__random_state=200; total time=  23.0s\n",
      "[CV 4/5] END classifier__bootstrap=True, classifier__max_depth=None, classifier__max_features=auto, classifier__n_estimators=400, classifier__random_state=200; total time=  21.0s\n",
      "[CV 5/5] END classifier__bootstrap=True, classifier__max_depth=None, classifier__max_features=auto, classifier__n_estimators=400, classifier__random_state=200; total time=  21.1s\n",
      "[CV 1/5] END classifier__bootstrap=True, classifier__max_depth=None, classifier__max_features=sqrt, classifier__n_estimators=200, classifier__random_state=100; total time=  11.3s\n",
      "[CV 2/5] END classifier__bootstrap=True, classifier__max_depth=None, classifier__max_features=sqrt, classifier__n_estimators=200, classifier__random_state=100; total time=  11.1s\n",
      "[CV 3/5] END classifier__bootstrap=True, classifier__max_depth=None, classifier__max_features=sqrt, classifier__n_estimators=200, classifier__random_state=100; total time=  11.0s\n",
      "[CV 4/5] END classifier__bootstrap=True, classifier__max_depth=None, classifier__max_features=sqrt, classifier__n_estimators=200, classifier__random_state=100; total time=  10.7s\n",
      "[CV 5/5] END classifier__bootstrap=True, classifier__max_depth=None, classifier__max_features=sqrt, classifier__n_estimators=200, classifier__random_state=100; total time=  10.7s\n",
      "[CV 1/5] END classifier__bootstrap=True, classifier__max_depth=None, classifier__max_features=sqrt, classifier__n_estimators=200, classifier__random_state=200; total time=  11.4s\n",
      "[CV 2/5] END classifier__bootstrap=True, classifier__max_depth=None, classifier__max_features=sqrt, classifier__n_estimators=200, classifier__random_state=200; total time=  11.7s\n",
      "[CV 3/5] END classifier__bootstrap=True, classifier__max_depth=None, classifier__max_features=sqrt, classifier__n_estimators=200, classifier__random_state=200; total time=  11.3s\n",
      "[CV 4/5] END classifier__bootstrap=True, classifier__max_depth=None, classifier__max_features=sqrt, classifier__n_estimators=200, classifier__random_state=200; total time=  11.3s\n",
      "[CV 5/5] END classifier__bootstrap=True, classifier__max_depth=None, classifier__max_features=sqrt, classifier__n_estimators=200, classifier__random_state=200; total time=  10.6s\n",
      "[CV 1/5] END classifier__bootstrap=True, classifier__max_depth=None, classifier__max_features=sqrt, classifier__n_estimators=400, classifier__random_state=100; total time=  22.6s\n",
      "[CV 2/5] END classifier__bootstrap=True, classifier__max_depth=None, classifier__max_features=sqrt, classifier__n_estimators=400, classifier__random_state=100; total time=  22.2s\n",
      "[CV 3/5] END classifier__bootstrap=True, classifier__max_depth=None, classifier__max_features=sqrt, classifier__n_estimators=400, classifier__random_state=100; total time=  22.0s\n",
      "[CV 4/5] END classifier__bootstrap=True, classifier__max_depth=None, classifier__max_features=sqrt, classifier__n_estimators=400, classifier__random_state=100; total time=  21.8s\n",
      "[CV 5/5] END classifier__bootstrap=True, classifier__max_depth=None, classifier__max_features=sqrt, classifier__n_estimators=400, classifier__random_state=100; total time=  21.4s\n",
      "[CV 1/5] END classifier__bootstrap=True, classifier__max_depth=None, classifier__max_features=sqrt, classifier__n_estimators=400, classifier__random_state=200; total time=  22.8s\n",
      "[CV 2/5] END classifier__bootstrap=True, classifier__max_depth=None, classifier__max_features=sqrt, classifier__n_estimators=400, classifier__random_state=200; total time=  22.4s\n",
      "[CV 3/5] END classifier__bootstrap=True, classifier__max_depth=None, classifier__max_features=sqrt, classifier__n_estimators=400, classifier__random_state=200; total time=  24.0s\n",
      "[CV 4/5] END classifier__bootstrap=True, classifier__max_depth=None, classifier__max_features=sqrt, classifier__n_estimators=400, classifier__random_state=200; total time=  21.6s\n",
      "[CV 5/5] END classifier__bootstrap=True, classifier__max_depth=None, classifier__max_features=sqrt, classifier__n_estimators=400, classifier__random_state=200; total time=  21.7s\n",
      "[CV 1/5] END classifier__bootstrap=False, classifier__max_depth=10, classifier__max_features=auto, classifier__n_estimators=200, classifier__random_state=100; total time=  12.1s\n",
      "[CV 2/5] END classifier__bootstrap=False, classifier__max_depth=10, classifier__max_features=auto, classifier__n_estimators=200, classifier__random_state=100; total time=  11.7s\n",
      "[CV 3/5] END classifier__bootstrap=False, classifier__max_depth=10, classifier__max_features=auto, classifier__n_estimators=200, classifier__random_state=100; total time=  11.6s\n",
      "[CV 4/5] END classifier__bootstrap=False, classifier__max_depth=10, classifier__max_features=auto, classifier__n_estimators=200, classifier__random_state=100; total time=  11.8s\n",
      "[CV 5/5] END classifier__bootstrap=False, classifier__max_depth=10, classifier__max_features=auto, classifier__n_estimators=200, classifier__random_state=100; total time=  13.2s\n",
      "[CV 1/5] END classifier__bootstrap=False, classifier__max_depth=10, classifier__max_features=auto, classifier__n_estimators=200, classifier__random_state=200; total time=  13.3s\n",
      "[CV 2/5] END classifier__bootstrap=False, classifier__max_depth=10, classifier__max_features=auto, classifier__n_estimators=200, classifier__random_state=200; total time=  12.3s\n",
      "[CV 3/5] END classifier__bootstrap=False, classifier__max_depth=10, classifier__max_features=auto, classifier__n_estimators=200, classifier__random_state=200; total time=  12.1s\n",
      "[CV 4/5] END classifier__bootstrap=False, classifier__max_depth=10, classifier__max_features=auto, classifier__n_estimators=200, classifier__random_state=200; total time=  12.4s\n",
      "[CV 5/5] END classifier__bootstrap=False, classifier__max_depth=10, classifier__max_features=auto, classifier__n_estimators=200, classifier__random_state=200; total time=  13.3s\n",
      "[CV 1/5] END classifier__bootstrap=False, classifier__max_depth=10, classifier__max_features=auto, classifier__n_estimators=400, classifier__random_state=100; total time=  26.6s\n",
      "[CV 2/5] END classifier__bootstrap=False, classifier__max_depth=10, classifier__max_features=auto, classifier__n_estimators=400, classifier__random_state=100; total time=  25.4s\n",
      "[CV 3/5] END classifier__bootstrap=False, classifier__max_depth=10, classifier__max_features=auto, classifier__n_estimators=400, classifier__random_state=100; total time=  24.6s\n",
      "[CV 4/5] END classifier__bootstrap=False, classifier__max_depth=10, classifier__max_features=auto, classifier__n_estimators=400, classifier__random_state=100; total time=  24.4s\n",
      "[CV 5/5] END classifier__bootstrap=False, classifier__max_depth=10, classifier__max_features=auto, classifier__n_estimators=400, classifier__random_state=100; total time=  25.6s\n",
      "[CV 1/5] END classifier__bootstrap=False, classifier__max_depth=10, classifier__max_features=auto, classifier__n_estimators=400, classifier__random_state=200; total time=  27.1s\n",
      "[CV 2/5] END classifier__bootstrap=False, classifier__max_depth=10, classifier__max_features=auto, classifier__n_estimators=400, classifier__random_state=200; total time=  27.6s\n",
      "[CV 3/5] END classifier__bootstrap=False, classifier__max_depth=10, classifier__max_features=auto, classifier__n_estimators=400, classifier__random_state=200; total time=  27.8s\n",
      "[CV 4/5] END classifier__bootstrap=False, classifier__max_depth=10, classifier__max_features=auto, classifier__n_estimators=400, classifier__random_state=200; total time=  26.1s\n"
     ]
    },
    {
     "name": "stdout",
     "output_type": "stream",
     "text": [
      "[CV 5/5] END classifier__bootstrap=False, classifier__max_depth=10, classifier__max_features=auto, classifier__n_estimators=400, classifier__random_state=200; total time=  24.6s\n",
      "[CV 1/5] END classifier__bootstrap=False, classifier__max_depth=10, classifier__max_features=sqrt, classifier__n_estimators=200, classifier__random_state=100; total time=  12.3s\n",
      "[CV 2/5] END classifier__bootstrap=False, classifier__max_depth=10, classifier__max_features=sqrt, classifier__n_estimators=200, classifier__random_state=100; total time=  12.2s\n",
      "[CV 3/5] END classifier__bootstrap=False, classifier__max_depth=10, classifier__max_features=sqrt, classifier__n_estimators=200, classifier__random_state=100; total time=  11.7s\n",
      "[CV 4/5] END classifier__bootstrap=False, classifier__max_depth=10, classifier__max_features=sqrt, classifier__n_estimators=200, classifier__random_state=100; total time=  11.7s\n",
      "[CV 5/5] END classifier__bootstrap=False, classifier__max_depth=10, classifier__max_features=sqrt, classifier__n_estimators=200, classifier__random_state=100; total time=  12.4s\n",
      "[CV 1/5] END classifier__bootstrap=False, classifier__max_depth=10, classifier__max_features=sqrt, classifier__n_estimators=200, classifier__random_state=200; total time=  12.9s\n",
      "[CV 2/5] END classifier__bootstrap=False, classifier__max_depth=10, classifier__max_features=sqrt, classifier__n_estimators=200, classifier__random_state=200; total time=  12.0s\n",
      "[CV 3/5] END classifier__bootstrap=False, classifier__max_depth=10, classifier__max_features=sqrt, classifier__n_estimators=200, classifier__random_state=200; total time=  12.1s\n",
      "[CV 4/5] END classifier__bootstrap=False, classifier__max_depth=10, classifier__max_features=sqrt, classifier__n_estimators=200, classifier__random_state=200; total time=  12.3s\n",
      "[CV 5/5] END classifier__bootstrap=False, classifier__max_depth=10, classifier__max_features=sqrt, classifier__n_estimators=200, classifier__random_state=200; total time=  12.6s\n",
      "[CV 1/5] END classifier__bootstrap=False, classifier__max_depth=10, classifier__max_features=sqrt, classifier__n_estimators=400, classifier__random_state=100; total time=  26.2s\n",
      "[CV 2/5] END classifier__bootstrap=False, classifier__max_depth=10, classifier__max_features=sqrt, classifier__n_estimators=400, classifier__random_state=100; total time=  25.7s\n",
      "[CV 3/5] END classifier__bootstrap=False, classifier__max_depth=10, classifier__max_features=sqrt, classifier__n_estimators=400, classifier__random_state=100; total time=  24.1s\n",
      "[CV 4/5] END classifier__bootstrap=False, classifier__max_depth=10, classifier__max_features=sqrt, classifier__n_estimators=400, classifier__random_state=100; total time=  23.5s\n",
      "[CV 5/5] END classifier__bootstrap=False, classifier__max_depth=10, classifier__max_features=sqrt, classifier__n_estimators=400, classifier__random_state=100; total time=  27.5s\n",
      "[CV 1/5] END classifier__bootstrap=False, classifier__max_depth=10, classifier__max_features=sqrt, classifier__n_estimators=400, classifier__random_state=200; total time=  27.3s\n",
      "[CV 2/5] END classifier__bootstrap=False, classifier__max_depth=10, classifier__max_features=sqrt, classifier__n_estimators=400, classifier__random_state=200; total time=  25.6s\n",
      "[CV 3/5] END classifier__bootstrap=False, classifier__max_depth=10, classifier__max_features=sqrt, classifier__n_estimators=400, classifier__random_state=200; total time=  24.2s\n",
      "[CV 4/5] END classifier__bootstrap=False, classifier__max_depth=10, classifier__max_features=sqrt, classifier__n_estimators=400, classifier__random_state=200; total time=  23.9s\n",
      "[CV 5/5] END classifier__bootstrap=False, classifier__max_depth=10, classifier__max_features=sqrt, classifier__n_estimators=400, classifier__random_state=200; total time=  25.8s\n",
      "[CV 1/5] END classifier__bootstrap=False, classifier__max_depth=20, classifier__max_features=auto, classifier__n_estimators=200, classifier__random_state=100; total time=  18.1s\n",
      "[CV 2/5] END classifier__bootstrap=False, classifier__max_depth=20, classifier__max_features=auto, classifier__n_estimators=200, classifier__random_state=100; total time=  19.0s\n",
      "[CV 3/5] END classifier__bootstrap=False, classifier__max_depth=20, classifier__max_features=auto, classifier__n_estimators=200, classifier__random_state=100; total time=  18.0s\n",
      "[CV 4/5] END classifier__bootstrap=False, classifier__max_depth=20, classifier__max_features=auto, classifier__n_estimators=200, classifier__random_state=100; total time=  17.0s\n",
      "[CV 5/5] END classifier__bootstrap=False, classifier__max_depth=20, classifier__max_features=auto, classifier__n_estimators=200, classifier__random_state=100; total time=  17.3s\n",
      "[CV 1/5] END classifier__bootstrap=False, classifier__max_depth=20, classifier__max_features=auto, classifier__n_estimators=200, classifier__random_state=200; total time=  18.7s\n",
      "[CV 2/5] END classifier__bootstrap=False, classifier__max_depth=20, classifier__max_features=auto, classifier__n_estimators=200, classifier__random_state=200; total time=  20.3s\n",
      "[CV 3/5] END classifier__bootstrap=False, classifier__max_depth=20, classifier__max_features=auto, classifier__n_estimators=200, classifier__random_state=200; total time=  16.8s\n",
      "[CV 4/5] END classifier__bootstrap=False, classifier__max_depth=20, classifier__max_features=auto, classifier__n_estimators=200, classifier__random_state=200; total time=  17.1s\n",
      "[CV 5/5] END classifier__bootstrap=False, classifier__max_depth=20, classifier__max_features=auto, classifier__n_estimators=200, classifier__random_state=200; total time=  19.3s\n",
      "[CV 1/5] END classifier__bootstrap=False, classifier__max_depth=20, classifier__max_features=auto, classifier__n_estimators=400, classifier__random_state=100; total time=  36.1s\n",
      "[CV 2/5] END classifier__bootstrap=False, classifier__max_depth=20, classifier__max_features=auto, classifier__n_estimators=400, classifier__random_state=100; total time=  34.0s\n",
      "[CV 3/5] END classifier__bootstrap=False, classifier__max_depth=20, classifier__max_features=auto, classifier__n_estimators=400, classifier__random_state=100; total time=  33.4s\n",
      "[CV 4/5] END classifier__bootstrap=False, classifier__max_depth=20, classifier__max_features=auto, classifier__n_estimators=400, classifier__random_state=100; total time=  32.9s\n",
      "[CV 5/5] END classifier__bootstrap=False, classifier__max_depth=20, classifier__max_features=auto, classifier__n_estimators=400, classifier__random_state=100; total time=  40.7s\n",
      "[CV 1/5] END classifier__bootstrap=False, classifier__max_depth=20, classifier__max_features=auto, classifier__n_estimators=400, classifier__random_state=200; total time=  39.5s\n",
      "[CV 2/5] END classifier__bootstrap=False, classifier__max_depth=20, classifier__max_features=auto, classifier__n_estimators=400, classifier__random_state=200; total time=  34.9s\n",
      "[CV 3/5] END classifier__bootstrap=False, classifier__max_depth=20, classifier__max_features=auto, classifier__n_estimators=400, classifier__random_state=200; total time=  33.8s\n",
      "[CV 4/5] END classifier__bootstrap=False, classifier__max_depth=20, classifier__max_features=auto, classifier__n_estimators=400, classifier__random_state=200; total time=  34.7s\n",
      "[CV 5/5] END classifier__bootstrap=False, classifier__max_depth=20, classifier__max_features=auto, classifier__n_estimators=400, classifier__random_state=200; total time=  35.6s\n",
      "[CV 1/5] END classifier__bootstrap=False, classifier__max_depth=20, classifier__max_features=sqrt, classifier__n_estimators=200, classifier__random_state=100; total time=  17.2s\n",
      "[CV 2/5] END classifier__bootstrap=False, classifier__max_depth=20, classifier__max_features=sqrt, classifier__n_estimators=200, classifier__random_state=100; total time=  18.5s\n",
      "[CV 3/5] END classifier__bootstrap=False, classifier__max_depth=20, classifier__max_features=sqrt, classifier__n_estimators=200, classifier__random_state=100; total time=  18.4s\n",
      "[CV 4/5] END classifier__bootstrap=False, classifier__max_depth=20, classifier__max_features=sqrt, classifier__n_estimators=200, classifier__random_state=100; total time=  17.9s\n",
      "[CV 5/5] END classifier__bootstrap=False, classifier__max_depth=20, classifier__max_features=sqrt, classifier__n_estimators=200, classifier__random_state=100; total time=  18.8s\n",
      "[CV 1/5] END classifier__bootstrap=False, classifier__max_depth=20, classifier__max_features=sqrt, classifier__n_estimators=200, classifier__random_state=200; total time=  18.5s\n"
     ]
    },
    {
     "name": "stdout",
     "output_type": "stream",
     "text": [
      "[CV 2/5] END classifier__bootstrap=False, classifier__max_depth=20, classifier__max_features=sqrt, classifier__n_estimators=200, classifier__random_state=200; total time=  17.7s\n",
      "[CV 3/5] END classifier__bootstrap=False, classifier__max_depth=20, classifier__max_features=sqrt, classifier__n_estimators=200, classifier__random_state=200; total time=  16.8s\n",
      "[CV 4/5] END classifier__bootstrap=False, classifier__max_depth=20, classifier__max_features=sqrt, classifier__n_estimators=200, classifier__random_state=200; total time=  17.4s\n",
      "[CV 5/5] END classifier__bootstrap=False, classifier__max_depth=20, classifier__max_features=sqrt, classifier__n_estimators=200, classifier__random_state=200; total time=  17.8s\n",
      "[CV 1/5] END classifier__bootstrap=False, classifier__max_depth=20, classifier__max_features=sqrt, classifier__n_estimators=400, classifier__random_state=100; total time=  36.2s\n",
      "[CV 2/5] END classifier__bootstrap=False, classifier__max_depth=20, classifier__max_features=sqrt, classifier__n_estimators=400, classifier__random_state=100; total time=  35.7s\n",
      "[CV 3/5] END classifier__bootstrap=False, classifier__max_depth=20, classifier__max_features=sqrt, classifier__n_estimators=400, classifier__random_state=100; total time=  33.8s\n",
      "[CV 4/5] END classifier__bootstrap=False, classifier__max_depth=20, classifier__max_features=sqrt, classifier__n_estimators=400, classifier__random_state=100; total time=  34.1s\n",
      "[CV 5/5] END classifier__bootstrap=False, classifier__max_depth=20, classifier__max_features=sqrt, classifier__n_estimators=400, classifier__random_state=100; total time=  35.0s\n",
      "[CV 1/5] END classifier__bootstrap=False, classifier__max_depth=20, classifier__max_features=sqrt, classifier__n_estimators=400, classifier__random_state=200; total time=  36.3s\n",
      "[CV 2/5] END classifier__bootstrap=False, classifier__max_depth=20, classifier__max_features=sqrt, classifier__n_estimators=400, classifier__random_state=200; total time=  35.5s\n",
      "[CV 3/5] END classifier__bootstrap=False, classifier__max_depth=20, classifier__max_features=sqrt, classifier__n_estimators=400, classifier__random_state=200; total time=  35.2s\n",
      "[CV 4/5] END classifier__bootstrap=False, classifier__max_depth=20, classifier__max_features=sqrt, classifier__n_estimators=400, classifier__random_state=200; total time=  37.3s\n",
      "[CV 5/5] END classifier__bootstrap=False, classifier__max_depth=20, classifier__max_features=sqrt, classifier__n_estimators=400, classifier__random_state=200; total time=  35.1s\n",
      "[CV 1/5] END classifier__bootstrap=False, classifier__max_depth=None, classifier__max_features=auto, classifier__n_estimators=200, classifier__random_state=100; total time=  20.3s\n",
      "[CV 2/5] END classifier__bootstrap=False, classifier__max_depth=None, classifier__max_features=auto, classifier__n_estimators=200, classifier__random_state=100; total time=  20.0s\n",
      "[CV 3/5] END classifier__bootstrap=False, classifier__max_depth=None, classifier__max_features=auto, classifier__n_estimators=200, classifier__random_state=100; total time=  18.7s\n",
      "[CV 4/5] END classifier__bootstrap=False, classifier__max_depth=None, classifier__max_features=auto, classifier__n_estimators=200, classifier__random_state=100; total time=  18.9s\n",
      "[CV 5/5] END classifier__bootstrap=False, classifier__max_depth=None, classifier__max_features=auto, classifier__n_estimators=200, classifier__random_state=100; total time=  18.9s\n",
      "[CV 1/5] END classifier__bootstrap=False, classifier__max_depth=None, classifier__max_features=auto, classifier__n_estimators=200, classifier__random_state=200; total time=  21.0s\n",
      "[CV 2/5] END classifier__bootstrap=False, classifier__max_depth=None, classifier__max_features=auto, classifier__n_estimators=200, classifier__random_state=200; total time=  20.5s\n",
      "[CV 3/5] END classifier__bootstrap=False, classifier__max_depth=None, classifier__max_features=auto, classifier__n_estimators=200, classifier__random_state=200; total time=  20.7s\n",
      "[CV 4/5] END classifier__bootstrap=False, classifier__max_depth=None, classifier__max_features=auto, classifier__n_estimators=200, classifier__random_state=200; total time=  19.6s\n",
      "[CV 5/5] END classifier__bootstrap=False, classifier__max_depth=None, classifier__max_features=auto, classifier__n_estimators=200, classifier__random_state=200; total time=  19.4s\n",
      "[CV 1/5] END classifier__bootstrap=False, classifier__max_depth=None, classifier__max_features=auto, classifier__n_estimators=400, classifier__random_state=100; total time=  48.6s\n",
      "[CV 2/5] END classifier__bootstrap=False, classifier__max_depth=None, classifier__max_features=auto, classifier__n_estimators=400, classifier__random_state=100; total time=  49.0s\n",
      "[CV 3/5] END classifier__bootstrap=False, classifier__max_depth=None, classifier__max_features=auto, classifier__n_estimators=400, classifier__random_state=100; total time=  48.5s\n",
      "[CV 4/5] END classifier__bootstrap=False, classifier__max_depth=None, classifier__max_features=auto, classifier__n_estimators=400, classifier__random_state=100; total time=  57.9s\n",
      "[CV 5/5] END classifier__bootstrap=False, classifier__max_depth=None, classifier__max_features=auto, classifier__n_estimators=400, classifier__random_state=100; total time=  45.8s\n",
      "[CV 1/5] END classifier__bootstrap=False, classifier__max_depth=None, classifier__max_features=auto, classifier__n_estimators=400, classifier__random_state=200; total time=  49.9s\n",
      "[CV 2/5] END classifier__bootstrap=False, classifier__max_depth=None, classifier__max_features=auto, classifier__n_estimators=400, classifier__random_state=200; total time=  50.1s\n",
      "[CV 3/5] END classifier__bootstrap=False, classifier__max_depth=None, classifier__max_features=auto, classifier__n_estimators=400, classifier__random_state=200; total time=  45.2s\n",
      "[CV 4/5] END classifier__bootstrap=False, classifier__max_depth=None, classifier__max_features=auto, classifier__n_estimators=400, classifier__random_state=200; total time=  46.6s\n",
      "[CV 5/5] END classifier__bootstrap=False, classifier__max_depth=None, classifier__max_features=auto, classifier__n_estimators=400, classifier__random_state=200; total time=  43.9s\n",
      "[CV 1/5] END classifier__bootstrap=False, classifier__max_depth=None, classifier__max_features=sqrt, classifier__n_estimators=200, classifier__random_state=100; total time=  24.0s\n",
      "[CV 2/5] END classifier__bootstrap=False, classifier__max_depth=None, classifier__max_features=sqrt, classifier__n_estimators=200, classifier__random_state=100; total time=  23.6s\n",
      "[CV 3/5] END classifier__bootstrap=False, classifier__max_depth=None, classifier__max_features=sqrt, classifier__n_estimators=200, classifier__random_state=100; total time=  22.8s\n",
      "[CV 4/5] END classifier__bootstrap=False, classifier__max_depth=None, classifier__max_features=sqrt, classifier__n_estimators=200, classifier__random_state=100; total time=  21.8s\n",
      "[CV 5/5] END classifier__bootstrap=False, classifier__max_depth=None, classifier__max_features=sqrt, classifier__n_estimators=200, classifier__random_state=100; total time=  22.2s\n",
      "[CV 1/5] END classifier__bootstrap=False, classifier__max_depth=None, classifier__max_features=sqrt, classifier__n_estimators=200, classifier__random_state=200; total time=  23.6s\n",
      "[CV 2/5] END classifier__bootstrap=False, classifier__max_depth=None, classifier__max_features=sqrt, classifier__n_estimators=200, classifier__random_state=200; total time=  23.6s\n",
      "[CV 3/5] END classifier__bootstrap=False, classifier__max_depth=None, classifier__max_features=sqrt, classifier__n_estimators=200, classifier__random_state=200; total time=  23.5s\n",
      "[CV 4/5] END classifier__bootstrap=False, classifier__max_depth=None, classifier__max_features=sqrt, classifier__n_estimators=200, classifier__random_state=200; total time=  23.4s\n",
      "[CV 5/5] END classifier__bootstrap=False, classifier__max_depth=None, classifier__max_features=sqrt, classifier__n_estimators=200, classifier__random_state=200; total time=  23.5s\n",
      "[CV 1/5] END classifier__bootstrap=False, classifier__max_depth=None, classifier__max_features=sqrt, classifier__n_estimators=400, classifier__random_state=100; total time=  49.6s\n",
      "[CV 2/5] END classifier__bootstrap=False, classifier__max_depth=None, classifier__max_features=sqrt, classifier__n_estimators=400, classifier__random_state=100; total time=  46.2s\n"
     ]
    },
    {
     "name": "stdout",
     "output_type": "stream",
     "text": [
      "[CV 3/5] END classifier__bootstrap=False, classifier__max_depth=None, classifier__max_features=sqrt, classifier__n_estimators=400, classifier__random_state=100; total time=  45.1s\n",
      "[CV 4/5] END classifier__bootstrap=False, classifier__max_depth=None, classifier__max_features=sqrt, classifier__n_estimators=400, classifier__random_state=100; total time=  42.9s\n",
      "[CV 5/5] END classifier__bootstrap=False, classifier__max_depth=None, classifier__max_features=sqrt, classifier__n_estimators=400, classifier__random_state=100; total time=  43.6s\n",
      "[CV 1/5] END classifier__bootstrap=False, classifier__max_depth=None, classifier__max_features=sqrt, classifier__n_estimators=400, classifier__random_state=200; total time=  47.3s\n",
      "[CV 2/5] END classifier__bootstrap=False, classifier__max_depth=None, classifier__max_features=sqrt, classifier__n_estimators=400, classifier__random_state=200; total time=  47.5s\n",
      "[CV 3/5] END classifier__bootstrap=False, classifier__max_depth=None, classifier__max_features=sqrt, classifier__n_estimators=400, classifier__random_state=200; total time=  46.6s\n",
      "[CV 4/5] END classifier__bootstrap=False, classifier__max_depth=None, classifier__max_features=sqrt, classifier__n_estimators=400, classifier__random_state=200; total time=  43.2s\n",
      "[CV 5/5] END classifier__bootstrap=False, classifier__max_depth=None, classifier__max_features=sqrt, classifier__n_estimators=400, classifier__random_state=200; total time=  41.3s\n"
     ]
    },
    {
     "data": {
      "text/html": [
       "<style>div.sk-top-container {color: black;background-color: white;}div.sk-toggleable {background-color: white;}label.sk-toggleable__label {cursor: pointer;display: block;width: 100%;margin-bottom: 0;padding: 0.2em 0.3em;box-sizing: border-box;text-align: center;}div.sk-toggleable__content {max-height: 0;max-width: 0;overflow: hidden;text-align: left;background-color: #f0f8ff;}div.sk-toggleable__content pre {margin: 0.2em;color: black;border-radius: 0.25em;background-color: #f0f8ff;}input.sk-toggleable__control:checked~div.sk-toggleable__content {max-height: 200px;max-width: 100%;overflow: auto;}div.sk-estimator input.sk-toggleable__control:checked~label.sk-toggleable__label {background-color: #d4ebff;}div.sk-label input.sk-toggleable__control:checked~label.sk-toggleable__label {background-color: #d4ebff;}input.sk-hidden--visually {border: 0;clip: rect(1px 1px 1px 1px);clip: rect(1px, 1px, 1px, 1px);height: 1px;margin: -1px;overflow: hidden;padding: 0;position: absolute;width: 1px;}div.sk-estimator {font-family: monospace;background-color: #f0f8ff;margin: 0.25em 0.25em;border: 1px dotted black;border-radius: 0.25em;box-sizing: border-box;}div.sk-estimator:hover {background-color: #d4ebff;}div.sk-parallel-item::after {content: \"\";width: 100%;border-bottom: 1px solid gray;flex-grow: 1;}div.sk-label:hover label.sk-toggleable__label {background-color: #d4ebff;}div.sk-serial::before {content: \"\";position: absolute;border-left: 1px solid gray;box-sizing: border-box;top: 2em;bottom: 0;left: 50%;}div.sk-serial {display: flex;flex-direction: column;align-items: center;background-color: white;}div.sk-item {z-index: 1;}div.sk-parallel {display: flex;align-items: stretch;justify-content: center;background-color: white;}div.sk-parallel-item {display: flex;flex-direction: column;position: relative;background-color: white;}div.sk-parallel-item:first-child::after {align-self: flex-end;width: 50%;}div.sk-parallel-item:last-child::after {align-self: flex-start;width: 50%;}div.sk-parallel-item:only-child::after {width: 0;}div.sk-dashed-wrapped {border: 1px dashed gray;margin: 0.2em;box-sizing: border-box;padding-bottom: 0.1em;background-color: white;position: relative;}div.sk-label label {font-family: monospace;font-weight: bold;background-color: white;display: inline-block;line-height: 1.2em;}div.sk-label-container {position: relative;z-index: 2;text-align: center;}div.sk-container {display: inline-block;position: relative;}</style><div class=\"sk-top-container\"><div class=\"sk-container\"><div class=\"sk-item sk-dashed-wrapped\"><div class=\"sk-label-container\"><div class=\"sk-label sk-toggleable\"><input class=\"sk-toggleable__control sk-hidden--visually\" id=\"049529a6-c03c-447d-9e96-457c26503ebf\" type=\"checkbox\" ><label class=\"sk-toggleable__label\" for=\"049529a6-c03c-447d-9e96-457c26503ebf\">GridSearchCV</label><div class=\"sk-toggleable__content\"><pre>GridSearchCV(estimator=Pipeline(steps=[('balancing', SMOTE(random_state=1)),\n",
       "                                       ('scaling', RobustScaler()),\n",
       "                                       ('classifier',\n",
       "                                        RandomForestClassifier())]),\n",
       "             param_grid={'classifier__bootstrap': [True, False],\n",
       "                         'classifier__max_depth': [10, 20, None],\n",
       "                         'classifier__max_features': ['auto', 'sqrt'],\n",
       "                         'classifier__n_estimators': [200, 400],\n",
       "                         'classifier__random_state': [100, 200]},\n",
       "             return_train_score=True, scoring='recall', verbose=3)</pre></div></div></div><div class=\"sk-parallel\"><div class=\"sk-parallel-item\"><div class=\"sk-item\"><div class=\"sk-serial\"><div class=\"sk-item\"><div class=\"sk-serial\"><div class=\"sk-item\"><div class=\"sk-estimator sk-toggleable\"><input class=\"sk-toggleable__control sk-hidden--visually\" id=\"5c22a6ad-5ee1-4fbf-bb85-a09d49274f21\" type=\"checkbox\" ><label class=\"sk-toggleable__label\" for=\"5c22a6ad-5ee1-4fbf-bb85-a09d49274f21\">SMOTE</label><div class=\"sk-toggleable__content\"><pre>SMOTE(random_state=1)</pre></div></div></div><div class=\"sk-item\"><div class=\"sk-estimator sk-toggleable\"><input class=\"sk-toggleable__control sk-hidden--visually\" id=\"32d4f987-7563-4e9a-85d2-713a8a1ab18e\" type=\"checkbox\" ><label class=\"sk-toggleable__label\" for=\"32d4f987-7563-4e9a-85d2-713a8a1ab18e\">RobustScaler</label><div class=\"sk-toggleable__content\"><pre>RobustScaler()</pre></div></div></div><div class=\"sk-item\"><div class=\"sk-estimator sk-toggleable\"><input class=\"sk-toggleable__control sk-hidden--visually\" id=\"6d534277-f753-42e5-99a5-2d190ca966c9\" type=\"checkbox\" ><label class=\"sk-toggleable__label\" for=\"6d534277-f753-42e5-99a5-2d190ca966c9\">RandomForestClassifier</label><div class=\"sk-toggleable__content\"><pre>RandomForestClassifier()</pre></div></div></div></div></div></div></div></div></div></div></div></div>"
      ],
      "text/plain": [
       "GridSearchCV(estimator=Pipeline(steps=[('balancing', SMOTE(random_state=1)),\n",
       "                                       ('scaling', RobustScaler()),\n",
       "                                       ('classifier',\n",
       "                                        RandomForestClassifier())]),\n",
       "             param_grid={'classifier__bootstrap': [True, False],\n",
       "                         'classifier__max_depth': [10, 20, None],\n",
       "                         'classifier__max_features': ['auto', 'sqrt'],\n",
       "                         'classifier__n_estimators': [200, 400],\n",
       "                         'classifier__random_state': [100, 200]},\n",
       "             return_train_score=True, scoring='recall', verbose=3)"
      ]
     },
     "execution_count": 85,
     "metadata": {},
     "output_type": "execute_result"
    }
   ],
   "source": [
    "#search best param for model\n",
    "clf = GridSearchCV(estimator= bagging_pipeline,\n",
    "                   param_grid= param_grid,\n",
    "                   scoring ='recall',\n",
    "                   return_train_score=True,\n",
    "                   verbose=3)\n",
    "\n",
    "clf.fit(X_train, y_train)"
   ]
  },
  {
   "cell_type": "code",
   "execution_count": 86,
   "id": "ab2d5d0c",
   "metadata": {},
   "outputs": [
    {
     "name": "stdout",
     "output_type": "stream",
     "text": [
      "Pipeline(steps=[('balancing', SMOTE(random_state=1)),\n",
      "                ('scaling', RobustScaler()),\n",
      "                ('classifier',\n",
      "                 RandomForestClassifier(max_depth=10, n_estimators=400,\n",
      "                                        random_state=100))])\n"
     ]
    }
   ],
   "source": [
    "best_estim= clf.best_estimator_\n",
    "print(best_estim)"
   ]
  },
  {
   "cell_type": "code",
   "execution_count": null,
   "id": "49f8f68b",
   "metadata": {},
   "outputs": [],
   "source": [
    "# print(\"Best Estimator: \\n{}\\n\".format(gs.best_estimator_))\n",
    "# print(\"Best Parameters: \\n{}\\n\".format(gs.best_params_))\n",
    "# print(\"Best Test Score: \\n{}\\n\".format(gs.best_score_))\n",
    "# print(\"Best Training Score: \\n{}\\n\".format(gs.cv_results_['mean_train_score'][gs.best_index_]))\n",
    "# print(\"All Training Scores: \\n{}\\n\".format(gs.cv_results_['mean_train_score']))\n",
    "# print(\"All Test Scores: \\n{}\\n\".format(gs.cv_results_['mean_test_score']))\n",
    "# # # This prints out all results during Cross-Validation in details\n",
    "# #print(\"All Meta Results During CV Search: \\n{}\\n\".format(gs.cv_results_))"
   ]
  }
 ],
 "metadata": {
  "kernelspec": {
   "display_name": "Python 3",
   "language": "python",
   "name": "python3"
  },
  "language_info": {
   "codemirror_mode": {
    "name": "ipython",
    "version": 3
   },
   "file_extension": ".py",
   "mimetype": "text/x-python",
   "name": "python",
   "nbconvert_exporter": "python",
   "pygments_lexer": "ipython3",
   "version": "3.8.8"
  }
 },
 "nbformat": 4,
 "nbformat_minor": 5
}
