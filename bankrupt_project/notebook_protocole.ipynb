{
 "cells": [
  {
   "cell_type": "markdown",
   "id": "afbcf3d0",
   "metadata": {},
   "source": [
    "## notebook_protocole : Introduction"
   ]
  },
  {
   "cell_type": "code",
   "execution_count": null,
   "id": "1ead9b95",
   "metadata": {},
   "outputs": [],
   "source": []
  },
  {
   "cell_type": "code",
   "execution_count": null,
   "id": "864c5fa2",
   "metadata": {},
   "outputs": [],
   "source": []
  },
  {
   "cell_type": "markdown",
   "id": "034dddba",
   "metadata": {},
   "source": [
    "## Explanation step by steps"
   ]
  },
  {
   "cell_type": "markdown",
   "id": "b9b04d07",
   "metadata": {},
   "source": [
    "#### Import the libraries that are recquired for our model"
   ]
  },
  {
   "cell_type": "code",
   "execution_count": 80,
   "id": "0fee3e0c",
   "metadata": {},
   "outputs": [],
   "source": [
    "###### FIRST CELL TO EXECUTE : Importing libraries ######\n",
    "\n",
    "# Basic imports\n",
    "import pickle\n",
    "import pandas as pd\n",
    "import numpy as np\n",
    "\n",
    "#viz\n",
    "import matplotlib.pyplot as plt\n",
    "import seaborn as sns\n",
    "\n",
    "\n",
    "import sklearn\n",
    "# Scikit learn libraries\n",
    "from sklearn.model_selection import train_test_split\n",
    "from sklearn.preprocessing import StandardScaler , RobustScaler, MinMaxScaler\n",
    "#class ACP\n",
    "from sklearn.decomposition import PCA\n",
    "from sklearn.preprocessing import scale\n",
    "from sklearn import decomposition\n",
    "from sklearn import preprocessing\n",
    "\n",
    "#Model évaluation / ensemble models\n",
    "from sklearn.model_selection import train_test_split\n",
    "from sklearn.linear_model import SGDClassifier\n",
    "from sklearn.tree import DecisionTreeClassifier\n",
    "from sklearn.neighbors import KNeighborsClassifier\n",
    "from sklearn.ensemble import VotingClassifier\n",
    "from sklearn.ensemble import BaggingClassifier, RandomForestClassifier\n",
    "from sklearn.ensemble import AdaBoostClassifier, GradientBoostingClassifier\n",
    "from sklearn.ensemble import StackingClassifier\n",
    "\n",
    "#pipeline\n",
    "from sklearn.pipeline import Pipeline\n",
    "from imblearn.pipeline import Pipeline as imbpipeline\n",
    "\n",
    "#imblearn library and SMOTE\n",
    "import imblearn\n",
    "from imblearn.over_sampling import SMOTE\n",
    "\n",
    "#report\n",
    "from sklearn.metrics import accuracy_score, precision_score, recall_score, f1_score, \\\n",
    "    confusion_matrix, classification_report"
   ]
  },
  {
   "cell_type": "markdown",
   "id": "888b6697",
   "metadata": {},
   "source": [
    "#### Import pickle and your dataset"
   ]
  },
  {
   "cell_type": "code",
   "execution_count": 35,
   "id": "f6976ae3",
   "metadata": {},
   "outputs": [],
   "source": [
    "# Importing our trained model\n",
    "# Here, you need to use the file \"pipe_training.pkl\" that you will find here :\n",
    "# https://github.com/Melodyellinn/Projet-Ensemble-Method\n",
    "\n",
    "with open('pipe_training.pkl', 'rb') as file:\n",
    "    model_pickle = pickle.load(file)"
   ]
  },
  {
   "cell_type": "code",
   "execution_count": 36,
   "id": "8be83f18",
   "metadata": {},
   "outputs": [],
   "source": [
    "###### SECOND CELL TO EXECUTE : Importing data that you wan to test ######\n",
    "\n",
    "# Here, you need to replace the string 'PATHNAME_OF_YOUR_DATA_FILE' by the pathname of your file\n",
    "# For example : model_df = pd.read_csv('data/eda_clean_df.csv')\n",
    "# model_df = pd.read_csv('PATHNAME_OF_YOUR_DATA_FILE')\n",
    "\n",
    "model_df = pd.read_csv('data/data.csv')"
   ]
  },
  {
   "cell_type": "code",
   "execution_count": 51,
   "id": "946b577a",
   "metadata": {
    "scrolled": false
   },
   "outputs": [],
   "source": [
    "###### THIRD CELL TO EXECUTE : Creating clusters and transforming some columns of your dataframe ######\n",
    "\n",
    "#replace the column's names\n",
    "model_df.columns = [c.replace(\" \",\"\", 1) if c.startswith(' ') else c for c in model_df.columns]\n",
    "\n",
    "#drop target and categorial's columns\n",
    "model = model_df.drop(model_df[['Bankrupt?', 'Cash flow rate', 'Net Income Flag']],axis =1)"
   ]
  },
  {
   "cell_type": "code",
   "execution_count": 52,
   "id": "a64f3428",
   "metadata": {},
   "outputs": [
    {
     "data": {
      "text/plain": [
       "(6819, 93)"
      ]
     },
     "execution_count": 52,
     "metadata": {},
     "output_type": "execute_result"
    }
   ],
   "source": [
    "model.shape"
   ]
  },
  {
   "cell_type": "code",
   "execution_count": 53,
   "id": "748bb965",
   "metadata": {},
   "outputs": [],
   "source": [
    "# Splitting between column with max value <= 1 and max value > 1\n",
    "# Create 2 lists to store columns name/values\n",
    "max_1 = []\n",
    "max_above_1 = []\n",
    "\n",
    "#Looping through the dataset, populating lists above\n",
    "for column in model:\n",
    "    if model[column].max() <= 1:\n",
    "        max_1.append(model[column])\n",
    "    else:\n",
    "        max_above_1.append(model[column])\n",
    "    \n",
    "\n",
    "model_2 = pd.DataFrame(max_1).T\n",
    "model_3 = pd.DataFrame(max_above_1).T"
   ]
  },
  {
   "cell_type": "code",
   "execution_count": 54,
   "id": "e528482b",
   "metadata": {
    "scrolled": true
   },
   "outputs": [
    {
     "data": {
      "text/plain": [
       "(6819, 69)"
      ]
     },
     "execution_count": 54,
     "metadata": {},
     "output_type": "execute_result"
    }
   ],
   "source": [
    "model_2.shape"
   ]
  },
  {
   "cell_type": "code",
   "execution_count": 55,
   "id": "d55f8d56",
   "metadata": {},
   "outputs": [
    {
     "data": {
      "text/plain": [
       "(6819, 24)"
      ]
     },
     "execution_count": 55,
     "metadata": {},
     "output_type": "execute_result"
    }
   ],
   "source": [
    "model_3.shape"
   ]
  },
  {
   "cell_type": "code",
   "execution_count": 56,
   "id": "8b687d29",
   "metadata": {},
   "outputs": [],
   "source": [
    "#use StandardScaler() columns in model_2\n",
    "sc = StandardScaler()\n",
    "model = sc.fit_transform(model_2.iloc[:,1:])\n",
    "df_sc = pd.DataFrame(model,columns= model_2.iloc[:,1:].columns)\n",
    "\n",
    "df_sc[['Bankrupt?','Cash flow rate', 'Net Income Flag']] = model_df[['Bankrupt?', 'Cash flow rate', 'Net Income Flag']]"
   ]
  },
  {
   "cell_type": "code",
   "execution_count": 57,
   "id": "d82742a0",
   "metadata": {},
   "outputs": [
    {
     "data": {
      "text/plain": [
       "(6819, 71)"
      ]
     },
     "execution_count": 57,
     "metadata": {},
     "output_type": "execute_result"
    }
   ],
   "source": [
    "df_sc.shape"
   ]
  },
  {
   "cell_type": "code",
   "execution_count": 58,
   "id": "104b0f5f",
   "metadata": {},
   "outputs": [],
   "source": [
    "#use MinMaxScaler() columns in model_3\n",
    "minmax = MinMaxScaler()\n",
    "model = minmax.fit_transform(model_3.iloc[:,1:])\n",
    "df_minmax = pd.DataFrame(model_df,columns= model_3.iloc[:,1:].columns)\n",
    "#take target in df because the targets remove to df_30 (targets <= 1)\n",
    "df_minmax['Bankrupt?'] = model_df['Bankrupt?']"
   ]
  },
  {
   "cell_type": "code",
   "execution_count": 59,
   "id": "e227e7d9",
   "metadata": {},
   "outputs": [
    {
     "data": {
      "text/plain": [
       "(6819, 24)"
      ]
     },
     "execution_count": 59,
     "metadata": {},
     "output_type": "execute_result"
    }
   ],
   "source": [
    "df_minmax.shape"
   ]
  },
  {
   "cell_type": "code",
   "execution_count": 60,
   "id": "5141e34b",
   "metadata": {},
   "outputs": [],
   "source": [
    "#Tu as deux dataframe\n",
    "#Appliquer la PCA sur les deux dataframes\n",
    "\n",
    "# définition de la commande pour df_sc\n",
    "pca = PCA(n_components=5)\n",
    "# Sélection des variables quantitatives\n",
    "dat= df_sc.drop(df_sc[['Bankrupt?','Cash flow rate', 'Net Income Flag']], axis=1)\n",
    "# réduction\n",
    "data = pd.DataFrame(scale(dat),columns=dat.columns)\n",
    "# composantes principales\n",
    "C = pca.fit(data).transform(data)\n",
    "\n",
    "# Repasser les données en DataFrame\n",
    "sc_pca = pd.DataFrame(C)\n",
    "sc_pca[['Bankrupt?', 'Cash flow rate', 'Net Income Flag']] = model_df[['Bankrupt?', 'Cash flow rate', 'Net Income Flag']]"
   ]
  },
  {
   "cell_type": "code",
   "execution_count": 61,
   "id": "f90e7048",
   "metadata": {},
   "outputs": [
    {
     "data": {
      "text/plain": [
       "(6819, 8)"
      ]
     },
     "execution_count": 61,
     "metadata": {},
     "output_type": "execute_result"
    }
   ],
   "source": [
    "sc_pca.shape"
   ]
  },
  {
   "cell_type": "code",
   "execution_count": 62,
   "id": "ebd0223f",
   "metadata": {},
   "outputs": [
    {
     "name": "stderr",
     "output_type": "stream",
     "text": [
      "C:\\Users\\Simplon\\anaconda3\\lib\\site-packages\\sklearn\\preprocessing\\_data.py:194: UserWarning: Numerical issues were encountered when centering the data and might not be solved. Dataset may contain too large values. You may need to prescale your features.\n",
      "  warnings.warn(\"Numerical issues were encountered \"\n"
     ]
    }
   ],
   "source": [
    "#Définition de la commande pour df_minmax\n",
    "pca = PCA(n_components=5)\n",
    "# Sélection des variables quantitatives\n",
    "dat= df_minmax.drop(df_minmax[['Bankrupt?']], axis=1)\n",
    "# réduction\n",
    "data = pd.DataFrame(scale(dat),columns=dat.columns)\n",
    "# composantes principales\n",
    "C = pca.fit(data).transform(data)\n",
    "\n",
    "# Repasser les données en DataFrame\n",
    "minmax_pca = pd.DataFrame(C)\n",
    "minmax_pca[['Bankrupt?']] = model_df[['Bankrupt?']]"
   ]
  },
  {
   "cell_type": "code",
   "execution_count": 63,
   "id": "39626d83",
   "metadata": {},
   "outputs": [
    {
     "data": {
      "text/plain": [
       "(6819, 6)"
      ]
     },
     "execution_count": 63,
     "metadata": {},
     "output_type": "execute_result"
    }
   ],
   "source": [
    "minmax_pca.shape"
   ]
  },
  {
   "cell_type": "code",
   "execution_count": 64,
   "id": "7081b34f",
   "metadata": {},
   "outputs": [],
   "source": [
    "# Assembler les deux df et supprimer la target doublé\n",
    "model_full = sc_pca.merge(minmax_pca, left_index=True, right_index= True, how='left')\n",
    "model_full = model_full.drop('Bankrupt?_y',axis =1)"
   ]
  },
  {
   "cell_type": "code",
   "execution_count": 65,
   "id": "391153eb",
   "metadata": {},
   "outputs": [
    {
     "data": {
      "text/plain": [
       "(6819, 13)"
      ]
     },
     "execution_count": 65,
     "metadata": {},
     "output_type": "execute_result"
    }
   ],
   "source": [
    "model_full.shape"
   ]
  },
  {
   "cell_type": "code",
   "execution_count": 66,
   "id": "2cdefd6d",
   "metadata": {},
   "outputs": [],
   "source": [
    "#Définir sa target et faire un split pour train_test\n",
    "y= model_full['Bankrupt?_x']\n",
    "X= model_full.drop('Bankrupt?_x', axis=1)\n",
    "\n",
    "X_train, X_test, y_train, y_test = train_test_split(X, y,\n",
    "                                                    test_size= 0.3,\n",
    "                                                    random_state=0)"
   ]
  },
  {
   "cell_type": "code",
   "execution_count": 85,
   "id": "aec6f13b",
   "metadata": {
    "scrolled": true
   },
   "outputs": [
    {
     "data": {
      "text/plain": [
       "array([0, 0, 0, ..., 0, 0, 0], dtype=int64)"
      ]
     },
     "execution_count": 85,
     "metadata": {},
     "output_type": "execute_result"
    }
   ],
   "source": [
    "###Test the model\n",
    "\n",
    "y_pred = model_pickle.predict(X_test)\n",
    "y_pred"
   ]
  },
  {
   "cell_type": "code",
   "execution_count": 87,
   "id": "f48f8857",
   "metadata": {},
   "outputs": [
    {
     "data": {
      "text/html": [
       "<div>\n",
       "<style scoped>\n",
       "    .dataframe tbody tr th:only-of-type {\n",
       "        vertical-align: middle;\n",
       "    }\n",
       "\n",
       "    .dataframe tbody tr th {\n",
       "        vertical-align: top;\n",
       "    }\n",
       "\n",
       "    .dataframe thead th {\n",
       "        text-align: right;\n",
       "    }\n",
       "</style>\n",
       "<table border=\"1\" class=\"dataframe\">\n",
       "  <thead>\n",
       "    <tr style=\"text-align: right;\">\n",
       "      <th></th>\n",
       "      <th>Real_Value</th>\n",
       "      <th>Prediction_Value</th>\n",
       "    </tr>\n",
       "  </thead>\n",
       "  <tbody>\n",
       "    <tr>\n",
       "      <th>4929</th>\n",
       "      <td>0</td>\n",
       "      <td>0</td>\n",
       "    </tr>\n",
       "    <tr>\n",
       "      <th>6424</th>\n",
       "      <td>0</td>\n",
       "      <td>0</td>\n",
       "    </tr>\n",
       "    <tr>\n",
       "      <th>3807</th>\n",
       "      <td>0</td>\n",
       "      <td>0</td>\n",
       "    </tr>\n",
       "    <tr>\n",
       "      <th>2011</th>\n",
       "      <td>0</td>\n",
       "      <td>0</td>\n",
       "    </tr>\n",
       "    <tr>\n",
       "      <th>6728</th>\n",
       "      <td>1</td>\n",
       "      <td>0</td>\n",
       "    </tr>\n",
       "    <tr>\n",
       "      <th>...</th>\n",
       "      <td>...</td>\n",
       "      <td>...</td>\n",
       "    </tr>\n",
       "    <tr>\n",
       "      <th>5809</th>\n",
       "      <td>0</td>\n",
       "      <td>0</td>\n",
       "    </tr>\n",
       "    <tr>\n",
       "      <th>5961</th>\n",
       "      <td>0</td>\n",
       "      <td>0</td>\n",
       "    </tr>\n",
       "    <tr>\n",
       "      <th>4623</th>\n",
       "      <td>0</td>\n",
       "      <td>0</td>\n",
       "    </tr>\n",
       "    <tr>\n",
       "      <th>4783</th>\n",
       "      <td>0</td>\n",
       "      <td>0</td>\n",
       "    </tr>\n",
       "    <tr>\n",
       "      <th>4502</th>\n",
       "      <td>0</td>\n",
       "      <td>0</td>\n",
       "    </tr>\n",
       "  </tbody>\n",
       "</table>\n",
       "<p>2046 rows × 2 columns</p>\n",
       "</div>"
      ],
      "text/plain": [
       "      Real_Value  Prediction_Value\n",
       "4929           0                 0\n",
       "6424           0                 0\n",
       "3807           0                 0\n",
       "2011           0                 0\n",
       "6728           1                 0\n",
       "...          ...               ...\n",
       "5809           0                 0\n",
       "5961           0                 0\n",
       "4623           0                 0\n",
       "4783           0                 0\n",
       "4502           0                 0\n",
       "\n",
       "[2046 rows x 2 columns]"
      ]
     },
     "execution_count": 87,
     "metadata": {},
     "output_type": "execute_result"
    }
   ],
   "source": [
    "#Look the prediction\n",
    "prediction_df = pd.DataFrame()\n",
    "prediction_df['Real_Value'] = y_test\n",
    "prediction_df['Prediction_Value'] = y_pred\n",
    "prediction_df"
   ]
  },
  {
   "cell_type": "code",
   "execution_count": 90,
   "id": "fbe5c731",
   "metadata": {},
   "outputs": [
    {
     "data": {
      "image/png": "[encoded data removed]",
      "text/plain": [
       "<Figure size 432x288 with 2 Axes>"
      ]
     },
     "metadata": {
      "needs_background": "light"
     },
     "output_type": "display_data"
    }
   ],
   "source": [
    "#Confusion matrice\n",
    "conf_mat = confusion_matrix(y_test, y_pred)\n",
    "sns.heatmap(conf_mat, annot=True, fmt=\"d\", cmap=\"Reds\")\n",
    "plt.title(\"Confusion matrix after (PCA) Gridsearchcv (DecisionTreeClassifier)\")\n",
    "plt.xlabel(\"Predicted\")\n",
    "plt.ylabel(\"Actual\")\n",
    "plt.show()"
   ]
  },
  {
   "cell_type": "code",
   "execution_count": null,
   "id": "4e0b29ae",
   "metadata": {},
   "outputs": [],
   "source": []
  }
 ],
 "metadata": {
  "kernelspec": {
   "display_name": "Python 3",
   "language": "python",
   "name": "python3"
  },
  "language_info": {
   "codemirror_mode": {
    "name": "ipython",
    "version": 3
   },
   "file_extension": ".py",
   "mimetype": "text/x-python",
   "name": "python",
   "nbconvert_exporter": "python",
   "pygments_lexer": "ipython3",
   "version": "3.8.8"
  }
 },
 "nbformat": 4,
 "nbformat_minor": 5
}
