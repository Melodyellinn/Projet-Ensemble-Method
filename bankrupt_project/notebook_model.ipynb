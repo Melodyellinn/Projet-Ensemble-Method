{
 "cells": [
  {
   "cell_type": "markdown",
   "id": "cd371439",
   "metadata": {},
   "source": [
    "# Développez un programme d'IA pour la prédiction des faillites d'entreprises"
   ]
  },
  {
   "cell_type": "markdown",
   "id": "8cb4a496",
   "metadata": {},
   "source": [
    "## Test d'un model avec les dimensions réduites (PCA)"
   ]
  },
  {
   "cell_type": "markdown",
   "id": "329b9393",
   "metadata": {},
   "source": [
    "### Librairie"
   ]
  },
  {
   "cell_type": "code",
   "execution_count": 3,
   "id": "23b10b26",
   "metadata": {},
   "outputs": [],
   "source": [
    "import pandas as pd\n",
    "import numpy as np\n",
    "\n",
    "#viz\n",
    "import matplotlib.pyplot as plt\n",
    "import seaborn as sns\n",
    "\n",
    "#imblearn, SMOTE\n",
    "import imblearn\n",
    "from imblearn.over_sampling import SMOTE\n",
    "\n",
    "import sklearn\n",
    "from sklearn.preprocessing import StandardScaler , RobustScaler, MinMaxScaler\n",
    "#classe pour l'ACP\n",
    "from sklearn.decomposition import PCA\n",
    "from sklearn.preprocessing import scale\n",
    "from sklearn import decomposition\n",
    "from sklearn import preprocessing\n",
    "from sklearn.linear_model import LogisticRegression\n",
    "\n",
    "#Model évaluation / ensemble models\n",
    "from sklearn.model_selection import train_test_split\n",
    "from sklearn.linear_model import SGDClassifier\n",
    "from sklearn.tree import DecisionTreeClassifier\n",
    "from sklearn.neighbors import KNeighborsClassifier\n",
    "from sklearn.ensemble import VotingClassifier\n",
    "from sklearn.ensemble import BaggingClassifier, RandomForestClassifier\n",
    "from sklearn.ensemble import AdaBoostClassifier, GradientBoostingClassifier\n",
    "from sklearn.ensemble import StackingClassifier\n",
    "\n",
    "#eval\n",
    "from statsmodels.stats.outliers_influence import variance_inflation_factor as vif\n",
    "from sklearn.inspection import permutation_importance\n",
    "from statsmodels.stats.outliers_influence import variance_inflation_factor as vif\n",
    "from sklearn.inspection import permutation_importance\n",
    "\n",
    "from sklearn.metrics import accuracy_score, precision_score, recall_score, f1_score, \\\n",
    "    confusion_matrix, classification_report\n",
    "\n",
    "# Tuning\n",
    "from sklearn.model_selection import GridSearchCV\n",
    "from sklearn.model_selection import RandomizedSearchCV\n",
    "from scipy import stats\n",
    "from sklearn.svm import SVC\n",
    "\n",
    "# Pipelines\n",
    "from sklearn.compose import ColumnTransformer\n",
    "from sklearn.preprocessing import FunctionTransformer\n",
    "from sklearn.pipeline import Pipeline\n",
    "from imblearn.pipeline import Pipeline as imbpipeline\n",
    "from sklearn.pipeline import FeatureUnion\n",
    "from sklearn.base import TransformerMixin, BaseEstimator\n",
    "from sklearn import set_config; set_config(display='diagram')\n",
    "\n",
    "import warnings\n",
    "warnings.filterwarnings(\"ignore\")"
   ]
  },
  {
   "cell_type": "code",
   "execution_count": 15,
   "id": "c9822c85",
   "metadata": {
    "scrolled": true
   },
   "outputs": [
    {
     "data": {
      "text/html": [
       "<div>\n",
       "<style scoped>\n",
       "    .dataframe tbody tr th:only-of-type {\n",
       "        vertical-align: middle;\n",
       "    }\n",
       "\n",
       "    .dataframe tbody tr th {\n",
       "        vertical-align: top;\n",
       "    }\n",
       "\n",
       "    .dataframe thead th {\n",
       "        text-align: right;\n",
       "    }\n",
       "</style>\n",
       "<table border=\"1\" class=\"dataframe\">\n",
       "  <thead>\n",
       "    <tr style=\"text-align: right;\">\n",
       "      <th></th>\n",
       "      <th>0_x</th>\n",
       "      <th>1_x</th>\n",
       "      <th>2_x</th>\n",
       "      <th>3_x</th>\n",
       "      <th>4_x</th>\n",
       "      <th>Bankrupt?_x</th>\n",
       "      <th>Cash flow rate</th>\n",
       "      <th>Net Income Flag</th>\n",
       "      <th>0_y</th>\n",
       "      <th>1_y</th>\n",
       "      <th>2_y</th>\n",
       "      <th>3_y</th>\n",
       "      <th>4_y</th>\n",
       "    </tr>\n",
       "  </thead>\n",
       "  <tbody>\n",
       "    <tr>\n",
       "      <th>0</th>\n",
       "      <td>7.002416</td>\n",
       "      <td>0.210639</td>\n",
       "      <td>0.518008</td>\n",
       "      <td>1.047187</td>\n",
       "      <td>-0.753049</td>\n",
       "      <td>1</td>\n",
       "      <td>0.458143</td>\n",
       "      <td>1</td>\n",
       "      <td>-0.675357</td>\n",
       "      <td>0.471021</td>\n",
       "      <td>0.439358</td>\n",
       "      <td>0.293346</td>\n",
       "      <td>-0.024646</td>\n",
       "    </tr>\n",
       "    <tr>\n",
       "      <th>1</th>\n",
       "      <td>2.515780</td>\n",
       "      <td>-1.001406</td>\n",
       "      <td>2.796894</td>\n",
       "      <td>1.254608</td>\n",
       "      <td>-1.626152</td>\n",
       "      <td>1</td>\n",
       "      <td>0.461867</td>\n",
       "      <td>1</td>\n",
       "      <td>-0.413267</td>\n",
       "      <td>-0.245132</td>\n",
       "      <td>-0.319322</td>\n",
       "      <td>-0.684695</td>\n",
       "      <td>1.115639</td>\n",
       "    </tr>\n",
       "    <tr>\n",
       "      <th>2</th>\n",
       "      <td>3.892479</td>\n",
       "      <td>-0.445196</td>\n",
       "      <td>0.329890</td>\n",
       "      <td>0.553477</td>\n",
       "      <td>-0.646261</td>\n",
       "      <td>1</td>\n",
       "      <td>0.458521</td>\n",
       "      <td>1</td>\n",
       "      <td>0.826894</td>\n",
       "      <td>0.736326</td>\n",
       "      <td>5.404968</td>\n",
       "      <td>-4.372411</td>\n",
       "      <td>-0.209795</td>\n",
       "    </tr>\n",
       "    <tr>\n",
       "      <th>3</th>\n",
       "      <td>5.358008</td>\n",
       "      <td>-1.373354</td>\n",
       "      <td>1.278493</td>\n",
       "      <td>1.082875</td>\n",
       "      <td>-1.146190</td>\n",
       "      <td>1</td>\n",
       "      <td>0.465705</td>\n",
       "      <td>1</td>\n",
       "      <td>-1.434121</td>\n",
       "      <td>0.245845</td>\n",
       "      <td>0.020421</td>\n",
       "      <td>-0.385649</td>\n",
       "      <td>-0.378555</td>\n",
       "    </tr>\n",
       "    <tr>\n",
       "      <th>4</th>\n",
       "      <td>2.196216</td>\n",
       "      <td>-0.606590</td>\n",
       "      <td>-0.327241</td>\n",
       "      <td>0.466398</td>\n",
       "      <td>-0.303600</td>\n",
       "      <td>1</td>\n",
       "      <td>0.462746</td>\n",
       "      <td>1</td>\n",
       "      <td>-1.723219</td>\n",
       "      <td>0.931141</td>\n",
       "      <td>0.449301</td>\n",
       "      <td>0.394764</td>\n",
       "      <td>-0.202597</td>\n",
       "    </tr>\n",
       "    <tr>\n",
       "      <th>...</th>\n",
       "      <td>...</td>\n",
       "      <td>...</td>\n",
       "      <td>...</td>\n",
       "      <td>...</td>\n",
       "      <td>...</td>\n",
       "      <td>...</td>\n",
       "      <td>...</td>\n",
       "      <td>...</td>\n",
       "      <td>...</td>\n",
       "      <td>...</td>\n",
       "      <td>...</td>\n",
       "      <td>...</td>\n",
       "      <td>...</td>\n",
       "    </tr>\n",
       "    <tr>\n",
       "      <th>6814</th>\n",
       "      <td>1.247610</td>\n",
       "      <td>-0.474437</td>\n",
       "      <td>-0.267197</td>\n",
       "      <td>0.034211</td>\n",
       "      <td>-0.122485</td>\n",
       "      <td>0</td>\n",
       "      <td>0.463734</td>\n",
       "      <td>1</td>\n",
       "      <td>0.662666</td>\n",
       "      <td>-0.338979</td>\n",
       "      <td>-0.124333</td>\n",
       "      <td>0.077868</td>\n",
       "      <td>-0.504152</td>\n",
       "    </tr>\n",
       "    <tr>\n",
       "      <th>6815</th>\n",
       "      <td>1.110003</td>\n",
       "      <td>-0.705685</td>\n",
       "      <td>0.051719</td>\n",
       "      <td>0.285129</td>\n",
       "      <td>-0.337483</td>\n",
       "      <td>0</td>\n",
       "      <td>0.461978</td>\n",
       "      <td>1</td>\n",
       "      <td>0.460895</td>\n",
       "      <td>-0.775116</td>\n",
       "      <td>-0.920889</td>\n",
       "      <td>-0.788864</td>\n",
       "      <td>1.267511</td>\n",
       "    </tr>\n",
       "    <tr>\n",
       "      <th>6816</th>\n",
       "      <td>-2.080849</td>\n",
       "      <td>-1.414326</td>\n",
       "      <td>1.456393</td>\n",
       "      <td>-1.249155</td>\n",
       "      <td>0.384871</td>\n",
       "      <td>0</td>\n",
       "      <td>0.472189</td>\n",
       "      <td>1</td>\n",
       "      <td>0.655122</td>\n",
       "      <td>-0.012268</td>\n",
       "      <td>0.501442</td>\n",
       "      <td>0.326625</td>\n",
       "      <td>-0.229102</td>\n",
       "    </tr>\n",
       "    <tr>\n",
       "      <th>6817</th>\n",
       "      <td>-1.748204</td>\n",
       "      <td>-0.201945</td>\n",
       "      <td>0.299989</td>\n",
       "      <td>-0.399400</td>\n",
       "      <td>0.124843</td>\n",
       "      <td>0</td>\n",
       "      <td>0.476123</td>\n",
       "      <td>1</td>\n",
       "      <td>0.887383</td>\n",
       "      <td>-0.618708</td>\n",
       "      <td>-0.120171</td>\n",
       "      <td>-0.641393</td>\n",
       "      <td>0.490914</td>\n",
       "    </tr>\n",
       "    <tr>\n",
       "      <th>6818</th>\n",
       "      <td>-1.558604</td>\n",
       "      <td>-2.138659</td>\n",
       "      <td>0.389275</td>\n",
       "      <td>-2.986502</td>\n",
       "      <td>1.306546</td>\n",
       "      <td>0</td>\n",
       "      <td>0.427721</td>\n",
       "      <td>1</td>\n",
       "      <td>0.686615</td>\n",
       "      <td>-0.214433</td>\n",
       "      <td>0.924078</td>\n",
       "      <td>1.373776</td>\n",
       "      <td>0.305527</td>\n",
       "    </tr>\n",
       "  </tbody>\n",
       "</table>\n",
       "<p>6819 rows × 13 columns</p>\n",
       "</div>"
      ],
      "text/plain": [
       "           0_x       1_x       2_x       3_x       4_x  Bankrupt?_x  \\\n",
       "0     7.002416  0.210639  0.518008  1.047187 -0.753049            1   \n",
       "1     2.515780 -1.001406  2.796894  1.254608 -1.626152            1   \n",
       "2     3.892479 -0.445196  0.329890  0.553477 -0.646261            1   \n",
       "3     5.358008 -1.373354  1.278493  1.082875 -1.146190            1   \n",
       "4     2.196216 -0.606590 -0.327241  0.466398 -0.303600            1   \n",
       "...        ...       ...       ...       ...       ...          ...   \n",
       "6814  1.247610 -0.474437 -0.267197  0.034211 -0.122485            0   \n",
       "6815  1.110003 -0.705685  0.051719  0.285129 -0.337483            0   \n",
       "6816 -2.080849 -1.414326  1.456393 -1.249155  0.384871            0   \n",
       "6817 -1.748204 -0.201945  0.299989 -0.399400  0.124843            0   \n",
       "6818 -1.558604 -2.138659  0.389275 -2.986502  1.306546            0   \n",
       "\n",
       "      Cash flow rate  Net Income Flag       0_y       1_y       2_y       3_y  \\\n",
       "0           0.458143                1 -0.675357  0.471021  0.439358  0.293346   \n",
       "1           0.461867                1 -0.413267 -0.245132 -0.319322 -0.684695   \n",
       "2           0.458521                1  0.826894  0.736326  5.404968 -4.372411   \n",
       "3           0.465705                1 -1.434121  0.245845  0.020421 -0.385649   \n",
       "4           0.462746                1 -1.723219  0.931141  0.449301  0.394764   \n",
       "...              ...              ...       ...       ...       ...       ...   \n",
       "6814        0.463734                1  0.662666 -0.338979 -0.124333  0.077868   \n",
       "6815        0.461978                1  0.460895 -0.775116 -0.920889 -0.788864   \n",
       "6816        0.472189                1  0.655122 -0.012268  0.501442  0.326625   \n",
       "6817        0.476123                1  0.887383 -0.618708 -0.120171 -0.641393   \n",
       "6818        0.427721                1  0.686615 -0.214433  0.924078  1.373776   \n",
       "\n",
       "           4_y  \n",
       "0    -0.024646  \n",
       "1     1.115639  \n",
       "2    -0.209795  \n",
       "3    -0.378555  \n",
       "4    -0.202597  \n",
       "...        ...  \n",
       "6814 -0.504152  \n",
       "6815  1.267511  \n",
       "6816 -0.229102  \n",
       "6817  0.490914  \n",
       "6818  0.305527  \n",
       "\n",
       "[6819 rows x 13 columns]"
      ]
     },
     "execution_count": 15,
     "metadata": {},
     "output_type": "execute_result"
    }
   ],
   "source": [
    "df = pd.read_csv('data/bankurpt_dataset.csv')\n",
    "df"
   ]
  },
  {
   "cell_type": "markdown",
   "id": "3823c088",
   "metadata": {},
   "source": [
    "## Pipeline"
   ]
  },
  {
   "cell_type": "code",
   "execution_count": 5,
   "id": "c8878e5d",
   "metadata": {
    "scrolled": false
   },
   "outputs": [
    {
     "data": {
      "text/html": [
       "<style>div.sk-top-container {color: black;background-color: white;}div.sk-toggleable {background-color: white;}label.sk-toggleable__label {cursor: pointer;display: block;width: 100%;margin-bottom: 0;padding: 0.2em 0.3em;box-sizing: border-box;text-align: center;}div.sk-toggleable__content {max-height: 0;max-width: 0;overflow: hidden;text-align: left;background-color: #f0f8ff;}div.sk-toggleable__content pre {margin: 0.2em;color: black;border-radius: 0.25em;background-color: #f0f8ff;}input.sk-toggleable__control:checked~div.sk-toggleable__content {max-height: 200px;max-width: 100%;overflow: auto;}div.sk-estimator input.sk-toggleable__control:checked~label.sk-toggleable__label {background-color: #d4ebff;}div.sk-label input.sk-toggleable__control:checked~label.sk-toggleable__label {background-color: #d4ebff;}input.sk-hidden--visually {border: 0;clip: rect(1px 1px 1px 1px);clip: rect(1px, 1px, 1px, 1px);height: 1px;margin: -1px;overflow: hidden;padding: 0;position: absolute;width: 1px;}div.sk-estimator {font-family: monospace;background-color: #f0f8ff;margin: 0.25em 0.25em;border: 1px dotted black;border-radius: 0.25em;box-sizing: border-box;}div.sk-estimator:hover {background-color: #d4ebff;}div.sk-parallel-item::after {content: \"\";width: 100%;border-bottom: 1px solid gray;flex-grow: 1;}div.sk-label:hover label.sk-toggleable__label {background-color: #d4ebff;}div.sk-serial::before {content: \"\";position: absolute;border-left: 1px solid gray;box-sizing: border-box;top: 2em;bottom: 0;left: 50%;}div.sk-serial {display: flex;flex-direction: column;align-items: center;background-color: white;}div.sk-item {z-index: 1;}div.sk-parallel {display: flex;align-items: stretch;justify-content: center;background-color: white;}div.sk-parallel-item {display: flex;flex-direction: column;position: relative;background-color: white;}div.sk-parallel-item:first-child::after {align-self: flex-end;width: 50%;}div.sk-parallel-item:last-child::after {align-self: flex-start;width: 50%;}div.sk-parallel-item:only-child::after {width: 0;}div.sk-dashed-wrapped {border: 1px dashed gray;margin: 0.2em;box-sizing: border-box;padding-bottom: 0.1em;background-color: white;position: relative;}div.sk-label label {font-family: monospace;font-weight: bold;background-color: white;display: inline-block;line-height: 1.2em;}div.sk-label-container {position: relative;z-index: 2;text-align: center;}div.sk-container {display: inline-block;position: relative;}</style><div class=\"sk-top-container\"><div class=\"sk-container\"><div class=\"sk-item sk-dashed-wrapped\"><div class=\"sk-label-container\"><div class=\"sk-label sk-toggleable\"><input class=\"sk-toggleable__control sk-hidden--visually\" id=\"56453857-6207-4341-9ffc-fe43ad237127\" type=\"checkbox\" ><label class=\"sk-toggleable__label\" for=\"56453857-6207-4341-9ffc-fe43ad237127\">Pipeline</label><div class=\"sk-toggleable__content\"><pre>Pipeline(steps=[('balancing', SMOTE(random_state=20)),\n",
       "                ('scaling',\n",
       "                 RobustScaler(quantile_range=(20.0, 90.0), with_scaling=False)),\n",
       "                ('classifier',\n",
       "                 BaggingClassifier(max_samples=0.05, n_estimators=5))])</pre></div></div></div><div class=\"sk-serial\"><div class=\"sk-item\"><div class=\"sk-estimator sk-toggleable\"><input class=\"sk-toggleable__control sk-hidden--visually\" id=\"f5a2d5d8-2ca6-4fb8-a60c-ea81bac5b6b8\" type=\"checkbox\" ><label class=\"sk-toggleable__label\" for=\"f5a2d5d8-2ca6-4fb8-a60c-ea81bac5b6b8\">SMOTE</label><div class=\"sk-toggleable__content\"><pre>SMOTE(random_state=20)</pre></div></div></div><div class=\"sk-item\"><div class=\"sk-estimator sk-toggleable\"><input class=\"sk-toggleable__control sk-hidden--visually\" id=\"93c3a035-bc65-4437-89c0-f607886ad9ce\" type=\"checkbox\" ><label class=\"sk-toggleable__label\" for=\"93c3a035-bc65-4437-89c0-f607886ad9ce\">RobustScaler</label><div class=\"sk-toggleable__content\"><pre>RobustScaler(quantile_range=(20.0, 90.0), with_scaling=False)</pre></div></div></div><div class=\"sk-item\"><div class=\"sk-estimator sk-toggleable\"><input class=\"sk-toggleable__control sk-hidden--visually\" id=\"71722e03-9c24-485a-8f46-94cf8e287eab\" type=\"checkbox\" ><label class=\"sk-toggleable__label\" for=\"71722e03-9c24-485a-8f46-94cf8e287eab\">BaggingClassifier</label><div class=\"sk-toggleable__content\"><pre>BaggingClassifier(max_samples=0.05, n_estimators=5)</pre></div></div></div></div></div></div></div>"
      ],
      "text/plain": [
       "Pipeline(steps=[('balancing', SMOTE(random_state=20)),\n",
       "                ('scaling',\n",
       "                 RobustScaler(quantile_range=(20.0, 90.0), with_scaling=False)),\n",
       "                ('classifier',\n",
       "                 BaggingClassifier(max_samples=0.05, n_estimators=5))])"
      ]
     },
     "execution_count": 5,
     "metadata": {},
     "output_type": "execute_result"
    }
   ],
   "source": [
    "# Create a pipeline with SMOTE/RobustScaler/BaggingClassifier\n",
    "bagging_pipeline = imbpipeline([\n",
    "    (\"balancing\", SMOTE(random_state=20)),\n",
    "    (\"scaling\", RobustScaler(quantile_range=(20.0, 90.0), with_scaling=False)),\n",
    "    (\"classifier\", BaggingClassifier (max_samples=0.05, n_estimators=5))\n",
    "])\n",
    "\n",
    "bagging_pipeline"
   ]
  },
  {
   "cell_type": "markdown",
   "id": "c1de76dc",
   "metadata": {},
   "source": [
    "Classification best param for BaggingClassifier (max_samples=0.05, n_estimators=5)"
   ]
  },
  {
   "attachments": {
    "Screenshot_4.png": {
     "image/png": "[encoded data removed]"
    }
   },
   "cell_type": "markdown",
   "id": "96010b30",
   "metadata": {},
   "source": [
    "![Screenshot_4.png](attachment:Screenshot_4.png)"
   ]
  },
  {
   "cell_type": "markdown",
   "id": "6697d335",
   "metadata": {},
   "source": [
    "Classification best param for BaggingClassifier (max_samples=0.05, n_estimators=5) + RobustScaler (quantile_range=(30.0, 80.0), with_scaling=False)"
   ]
  },
  {
   "attachments": {
    "Screenshot_5.png": {
     "image/png": "[encoded data removed]"
    }
   },
   "cell_type": "markdown",
   "id": "9d07f3e8",
   "metadata": {},
   "source": [
    "![Screenshot_5.png](attachment:Screenshot_5.png)"
   ]
  },
  {
   "cell_type": "markdown",
   "id": "57ad9bd5",
   "metadata": {},
   "source": [
    "Classification best param for BaggingClassifier (max_samples=0.05, n_estimators=5) + RobustScaler (quantile_range=(20.0, 90.0), with_scaling=False) + SMOTE(random_state=20)"
   ]
  },
  {
   "attachments": {
    "Screenshot_6.png": {
     "image/png": "[encoded data removed]"
    }
   },
   "cell_type": "markdown",
   "id": "e258ddea",
   "metadata": {},
   "source": [
    "![Screenshot_6.png](attachment:Screenshot_6.png)"
   ]
  },
  {
   "attachments": {
    "Screenshot_5.png": {
     "image/png": "[encoded data removed]"
    }
   },
   "cell_type": "markdown",
   "id": "55fb7a5a",
   "metadata": {},
   "source": [
    "![Screenshot_5.png](attachment:Screenshot_5.png)"
   ]
  },
  {
   "cell_type": "markdown",
   "id": "aaa532fc",
   "metadata": {},
   "source": [
    "Classification best param for RandomForestClassifier(max_depth=10, n_estimators=400, random_state=100) + RobustScaler (quantile_range=(20.0, 90.0), with_scaling=False) + SMOTE(random_state=20)"
   ]
  },
  {
   "attachments": {
    "Screenshot_3.png": {
     "image/png": "[encoded data removed]"
    }
   },
   "cell_type": "markdown",
   "id": "555175f9",
   "metadata": {},
   "source": [
    "![Screenshot_3.png](attachment:Screenshot_3.png)"
   ]
  },
  {
   "attachments": {
    "Screenshot_4.png": {
     "image/png": "[encoded data removed]"
    }
   },
   "cell_type": "markdown",
   "id": "8e971eed",
   "metadata": {},
   "source": [
    "![Screenshot_4.png](attachment:Screenshot_4.png)"
   ]
  },
  {
   "cell_type": "code",
   "execution_count": 6,
   "id": "82b365c4",
   "metadata": {},
   "outputs": [
    {
     "name": "stdout",
     "output_type": "stream",
     "text": [
      "              precision    recall  f1-score   support\n",
      "\n",
      "           0       0.99      0.88      0.93      1987\n",
      "           1       0.16      0.75      0.26        59\n",
      "\n",
      "    accuracy                           0.88      2046\n",
      "   macro avg       0.58      0.81      0.60      2046\n",
      "weighted avg       0.97      0.88      0.91      2046\n",
      "\n"
     ]
    }
   ],
   "source": [
    "y= df['Bankrupt?_x']\n",
    "X= df.drop('Bankrupt?_x', axis=1)\n",
    "\n",
    "X_train, X_test, y_train, y_test = train_test_split(X, y,\n",
    "                                                    test_size= 0.3,\n",
    "                                                    random_state=0)\n",
    "\n",
    "pipe_training = bagging_pipeline.fit(X_train, y_train)\n",
    "\n",
    "y_pred = pipe_training.predict(X_test)\n",
    "\n",
    "print(classification_report(y_test, y_pred))"
   ]
  },
  {
   "cell_type": "code",
   "execution_count": 96,
   "id": "764a5913",
   "metadata": {
    "scrolled": false
   },
   "outputs": [
    {
     "data": {
      "image/png": "[encoded data removed]",
      "text/plain": [
       "<Figure size 432x288 with 2 Axes>"
      ]
     },
     "metadata": {
      "needs_background": "light"
     },
     "output_type": "display_data"
    }
   ],
   "source": [
    "conf_mat_2 = confusion_matrix(y_test, y_pred)\n",
    "sns.heatmap(conf_mat_2, annot=True, fmt=\"d\", cmap=\"Reds\")\n",
    "plt.title(\"Confusion matrix after (PCA) Gridsearchcv (DecisionTreeClassifier)\")\n",
    "plt.xlabel(\"Predicted\")\n",
    "plt.ylabel(\"Actual\")\n",
    "plt.show()"
   ]
  },
  {
   "cell_type": "code",
   "execution_count": 78,
   "id": "bb006934",
   "metadata": {},
   "outputs": [
    {
     "name": "stdout",
     "output_type": "stream",
     "text": [
      "[0.        0.1207851 1.       ] [0.         0.76271186 1.        ]\n",
      "82.09633806180854\n"
     ]
    },
    {
     "data": {
      "image/png": "[encoded data removed]",
      "text/plain": [
       "<Figure size 432x288 with 1 Axes>"
      ]
     },
     "metadata": {
      "needs_background": "light"
     },
     "output_type": "display_data"
    }
   ],
   "source": [
    "from sklearn.metrics import roc_curve,auc\n",
    "\n",
    "fp, tp, thresholds=roc_curve(y_test,y_pred,pos_label=1)\n",
    "print(fp, tp)\n",
    "AUC=auc(fp, tp)*100\n",
    "print(AUC)\n",
    "\n",
    "#tracer tp en fonction de fp\n",
    "plt.plot(fp, tp, color='blue',label = 'AUC = %0.2f' % AUC)\n",
    "plt.title('Receiver Operating Characteristic')\n",
    "\n",
    "#plt.plot(fpr, tpr, 'b', label = 'AUC = %0.2f' % AUC)\n",
    "plt.legend(loc = 'lower right')\n",
    "plt.plot([0, 1], [0, 1],'r--')\n",
    "plt.xlim([0, 1])\n",
    "plt.ylim([0, 1])\n",
    "plt.ylabel('True Positive Rate')\n",
    "plt.xlabel('False Positive Rate')\n",
    "plt.show()"
   ]
  },
  {
   "cell_type": "code",
   "execution_count": 97,
   "id": "67806a5a",
   "metadata": {},
   "outputs": [],
   "source": [
    "# #Take the mean of cross-validated train scores and validation scores\n",
    "# train_scores_mean = np.mean(train_scores, axis=1)\n",
    "# test_scores_mean = np.mean(test_scores, axis=1)\n",
    "\n",
    "\n",
    "# # Plot the learning curves!\n",
    "# plt.plot(train_sizes, train_scores_mean, label = 'Training score')\n",
    "# plt.plot(train_sizes, test_scores_mean, label = 'Test score')\n",
    "# plt.ylabel('Recall', fontsize = 14)\n",
    "# plt.xlabel('Training set size', fontsize = 14)\n",
    "# plt.title('Learning curves - SVC model', fontsize = 18, y = 1.03)\n",
    "# plt.legend()\n",
    "# plt.ylim(0,1)\n",
    "# plt.show()"
   ]
  },
  {
   "cell_type": "markdown",
   "id": "93fb07b8",
   "metadata": {},
   "source": [
    "## GridSearchcv"
   ]
  },
  {
   "cell_type": "code",
   "execution_count": 80,
   "id": "2591ab9d",
   "metadata": {},
   "outputs": [
    {
     "name": "stdout",
     "output_type": "stream",
     "text": [
      "cv\n",
      "error_score\n",
      "estimator__memory\n",
      "estimator__steps\n",
      "estimator__verbose\n",
      "estimator__balancing\n",
      "estimator__scaling\n",
      "estimator__classifier\n",
      "estimator__balancing__k_neighbors\n",
      "estimator__balancing__n_jobs\n",
      "estimator__balancing__random_state\n",
      "estimator__balancing__sampling_strategy\n",
      "estimator__scaling__copy\n",
      "estimator__scaling__quantile_range\n",
      "estimator__scaling__unit_variance\n",
      "estimator__scaling__with_centering\n",
      "estimator__scaling__with_scaling\n",
      "estimator__classifier__bootstrap\n",
      "estimator__classifier__ccp_alpha\n",
      "estimator__classifier__class_weight\n",
      "estimator__classifier__criterion\n",
      "estimator__classifier__max_depth\n",
      "estimator__classifier__max_features\n",
      "estimator__classifier__max_leaf_nodes\n",
      "estimator__classifier__max_samples\n",
      "estimator__classifier__min_impurity_decrease\n",
      "estimator__classifier__min_impurity_split\n",
      "estimator__classifier__min_samples_leaf\n",
      "estimator__classifier__min_samples_split\n",
      "estimator__classifier__min_weight_fraction_leaf\n",
      "estimator__classifier__n_estimators\n",
      "estimator__classifier__n_jobs\n",
      "estimator__classifier__oob_score\n",
      "estimator__classifier__random_state\n",
      "estimator__classifier__verbose\n",
      "estimator__classifier__warm_start\n",
      "estimator\n",
      "n_jobs\n",
      "param_grid\n",
      "pre_dispatch\n",
      "refit\n",
      "return_train_score\n",
      "scoring\n",
      "verbose\n"
     ]
    }
   ],
   "source": [
    "#search key for params\n",
    "rnd_search = GridSearchCV(bagging_pipeline, param_grid= param_grid)\n",
    "\n",
    "for param in rnd_search.get_params().keys():\n",
    "    print(param)"
   ]
  },
  {
   "cell_type": "code",
   "execution_count": 86,
   "id": "d0cae6a0",
   "metadata": {},
   "outputs": [],
   "source": [
    "# #BaggingClassifier\n",
    "param_grid = {\n",
    "    'classifier__n_estimators' : [200, 400],\n",
    "    'classifier__random_state' : [100, 200],\n",
    "    'classifier__max_features': ['auto', 'sqrt'],\n",
    "    'classifier__bootstrap' : [True, False],\n",
    "    'classifier__max_depth' : [10, 20, None]\n",
    "}"
   ]
  },
  {
   "cell_type": "code",
   "execution_count": 87,
   "id": "9e9f894a",
   "metadata": {},
   "outputs": [
    {
     "name": "stdout",
     "output_type": "stream",
     "text": [
      "Fitting 5 folds for each of 48 candidates, totalling 240 fits\n",
      "[CV 1/5] END classifier__bootstrap=True, classifier__max_depth=10, classifier__max_features=auto, classifier__n_estimators=200, classifier__random_state=100; total time=   2.7s\n",
      "[CV 2/5] END classifier__bootstrap=True, classifier__max_depth=10, classifier__max_features=auto, classifier__n_estimators=200, classifier__random_state=100; total time=   2.7s\n",
      "[CV 3/5] END classifier__bootstrap=True, classifier__max_depth=10, classifier__max_features=auto, classifier__n_estimators=200, classifier__random_state=100; total time=   2.6s\n",
      "[CV 4/5] END classifier__bootstrap=True, classifier__max_depth=10, classifier__max_features=auto, classifier__n_estimators=200, classifier__random_state=100; total time=   2.8s\n",
      "[CV 5/5] END classifier__bootstrap=True, classifier__max_depth=10, classifier__max_features=auto, classifier__n_estimators=200, classifier__random_state=100; total time=   2.7s\n",
      "[CV 1/5] END classifier__bootstrap=True, classifier__max_depth=10, classifier__max_features=auto, classifier__n_estimators=200, classifier__random_state=200; total time=   2.7s\n",
      "[CV 2/5] END classifier__bootstrap=True, classifier__max_depth=10, classifier__max_features=auto, classifier__n_estimators=200, classifier__random_state=200; total time=   2.8s\n",
      "[CV 3/5] END classifier__bootstrap=True, classifier__max_depth=10, classifier__max_features=auto, classifier__n_estimators=200, classifier__random_state=200; total time=   2.7s\n",
      "[CV 4/5] END classifier__bootstrap=True, classifier__max_depth=10, classifier__max_features=auto, classifier__n_estimators=200, classifier__random_state=200; total time=   2.8s\n",
      "[CV 5/5] END classifier__bootstrap=True, classifier__max_depth=10, classifier__max_features=auto, classifier__n_estimators=200, classifier__random_state=200; total time=   2.7s\n",
      "[CV 1/5] END classifier__bootstrap=True, classifier__max_depth=10, classifier__max_features=auto, classifier__n_estimators=400, classifier__random_state=100; total time=   5.7s\n",
      "[CV 2/5] END classifier__bootstrap=True, classifier__max_depth=10, classifier__max_features=auto, classifier__n_estimators=400, classifier__random_state=100; total time=   5.5s\n",
      "[CV 3/5] END classifier__bootstrap=True, classifier__max_depth=10, classifier__max_features=auto, classifier__n_estimators=400, classifier__random_state=100; total time=   5.4s\n",
      "[CV 4/5] END classifier__bootstrap=True, classifier__max_depth=10, classifier__max_features=auto, classifier__n_estimators=400, classifier__random_state=100; total time=   5.5s\n",
      "[CV 5/5] END classifier__bootstrap=True, classifier__max_depth=10, classifier__max_features=auto, classifier__n_estimators=400, classifier__random_state=100; total time=   5.5s\n",
      "[CV 1/5] END classifier__bootstrap=True, classifier__max_depth=10, classifier__max_features=auto, classifier__n_estimators=400, classifier__random_state=200; total time=   5.5s\n",
      "[CV 2/5] END classifier__bootstrap=True, classifier__max_depth=10, classifier__max_features=auto, classifier__n_estimators=400, classifier__random_state=200; total time=   5.5s\n",
      "[CV 3/5] END classifier__bootstrap=True, classifier__max_depth=10, classifier__max_features=auto, classifier__n_estimators=400, classifier__random_state=200; total time=   5.5s\n",
      "[CV 4/5] END classifier__bootstrap=True, classifier__max_depth=10, classifier__max_features=auto, classifier__n_estimators=400, classifier__random_state=200; total time=   5.5s\n",
      "[CV 5/5] END classifier__bootstrap=True, classifier__max_depth=10, classifier__max_features=auto, classifier__n_estimators=400, classifier__random_state=200; total time=   5.5s\n",
      "[CV 1/5] END classifier__bootstrap=True, classifier__max_depth=10, classifier__max_features=sqrt, classifier__n_estimators=200, classifier__random_state=100; total time=   2.7s\n",
      "[CV 2/5] END classifier__bootstrap=True, classifier__max_depth=10, classifier__max_features=sqrt, classifier__n_estimators=200, classifier__random_state=100; total time=   2.7s\n",
      "[CV 3/5] END classifier__bootstrap=True, classifier__max_depth=10, classifier__max_features=sqrt, classifier__n_estimators=200, classifier__random_state=100; total time=   2.7s\n",
      "[CV 4/5] END classifier__bootstrap=True, classifier__max_depth=10, classifier__max_features=sqrt, classifier__n_estimators=200, classifier__random_state=100; total time=   2.7s\n",
      "[CV 5/5] END classifier__bootstrap=True, classifier__max_depth=10, classifier__max_features=sqrt, classifier__n_estimators=200, classifier__random_state=100; total time=   2.7s\n",
      "[CV 1/5] END classifier__bootstrap=True, classifier__max_depth=10, classifier__max_features=sqrt, classifier__n_estimators=200, classifier__random_state=200; total time=   2.7s\n",
      "[CV 2/5] END classifier__bootstrap=True, classifier__max_depth=10, classifier__max_features=sqrt, classifier__n_estimators=200, classifier__random_state=200; total time=   2.7s\n",
      "[CV 3/5] END classifier__bootstrap=True, classifier__max_depth=10, classifier__max_features=sqrt, classifier__n_estimators=200, classifier__random_state=200; total time=   2.7s\n",
      "[CV 4/5] END classifier__bootstrap=True, classifier__max_depth=10, classifier__max_features=sqrt, classifier__n_estimators=200, classifier__random_state=200; total time=   2.7s\n",
      "[CV 5/5] END classifier__bootstrap=True, classifier__max_depth=10, classifier__max_features=sqrt, classifier__n_estimators=200, classifier__random_state=200; total time=   2.8s\n",
      "[CV 1/5] END classifier__bootstrap=True, classifier__max_depth=10, classifier__max_features=sqrt, classifier__n_estimators=400, classifier__random_state=100; total time=   5.5s\n",
      "[CV 2/5] END classifier__bootstrap=True, classifier__max_depth=10, classifier__max_features=sqrt, classifier__n_estimators=400, classifier__random_state=100; total time=   5.5s\n",
      "[CV 3/5] END classifier__bootstrap=True, classifier__max_depth=10, classifier__max_features=sqrt, classifier__n_estimators=400, classifier__random_state=100; total time=   5.5s\n",
      "[CV 4/5] END classifier__bootstrap=True, classifier__max_depth=10, classifier__max_features=sqrt, classifier__n_estimators=400, classifier__random_state=100; total time=   5.6s\n",
      "[CV 5/5] END classifier__bootstrap=True, classifier__max_depth=10, classifier__max_features=sqrt, classifier__n_estimators=400, classifier__random_state=100; total time=   5.5s\n",
      "[CV 1/5] END classifier__bootstrap=True, classifier__max_depth=10, classifier__max_features=sqrt, classifier__n_estimators=400, classifier__random_state=200; total time=   5.5s\n",
      "[CV 2/5] END classifier__bootstrap=True, classifier__max_depth=10, classifier__max_features=sqrt, classifier__n_estimators=400, classifier__random_state=200; total time=   5.5s\n",
      "[CV 3/5] END classifier__bootstrap=True, classifier__max_depth=10, classifier__max_features=sqrt, classifier__n_estimators=400, classifier__random_state=200; total time=   5.4s\n",
      "[CV 4/5] END classifier__bootstrap=True, classifier__max_depth=10, classifier__max_features=sqrt, classifier__n_estimators=400, classifier__random_state=200; total time=   5.5s\n",
      "[CV 5/5] END classifier__bootstrap=True, classifier__max_depth=10, classifier__max_features=sqrt, classifier__n_estimators=400, classifier__random_state=200; total time=   5.5s\n",
      "[CV 1/5] END classifier__bootstrap=True, classifier__max_depth=20, classifier__max_features=auto, classifier__n_estimators=200, classifier__random_state=100; total time=   3.4s\n",
      "[CV 2/5] END classifier__bootstrap=True, classifier__max_depth=20, classifier__max_features=auto, classifier__n_estimators=200, classifier__random_state=100; total time=   3.3s\n",
      "[CV 3/5] END classifier__bootstrap=True, classifier__max_depth=20, classifier__max_features=auto, classifier__n_estimators=200, classifier__random_state=100; total time=   3.2s\n",
      "[CV 4/5] END classifier__bootstrap=True, classifier__max_depth=20, classifier__max_features=auto, classifier__n_estimators=200, classifier__random_state=100; total time=   3.4s\n",
      "[CV 5/5] END classifier__bootstrap=True, classifier__max_depth=20, classifier__max_features=auto, classifier__n_estimators=200, classifier__random_state=100; total time=   3.4s\n",
      "[CV 1/5] END classifier__bootstrap=True, classifier__max_depth=20, classifier__max_features=auto, classifier__n_estimators=200, classifier__random_state=200; total time=   3.7s\n"
     ]
    },
    {
     "name": "stdout",
     "output_type": "stream",
     "text": [
      "[CV 2/5] END classifier__bootstrap=True, classifier__max_depth=20, classifier__max_features=auto, classifier__n_estimators=200, classifier__random_state=200; total time=   3.4s\n",
      "[CV 3/5] END classifier__bootstrap=True, classifier__max_depth=20, classifier__max_features=auto, classifier__n_estimators=200, classifier__random_state=200; total time=   3.3s\n",
      "[CV 4/5] END classifier__bootstrap=True, classifier__max_depth=20, classifier__max_features=auto, classifier__n_estimators=200, classifier__random_state=200; total time=   3.4s\n",
      "[CV 5/5] END classifier__bootstrap=True, classifier__max_depth=20, classifier__max_features=auto, classifier__n_estimators=200, classifier__random_state=200; total time=   3.4s\n",
      "[CV 1/5] END classifier__bootstrap=True, classifier__max_depth=20, classifier__max_features=auto, classifier__n_estimators=400, classifier__random_state=100; total time=   6.8s\n",
      "[CV 2/5] END classifier__bootstrap=True, classifier__max_depth=20, classifier__max_features=auto, classifier__n_estimators=400, classifier__random_state=100; total time=   6.7s\n",
      "[CV 3/5] END classifier__bootstrap=True, classifier__max_depth=20, classifier__max_features=auto, classifier__n_estimators=400, classifier__random_state=100; total time=   6.6s\n",
      "[CV 4/5] END classifier__bootstrap=True, classifier__max_depth=20, classifier__max_features=auto, classifier__n_estimators=400, classifier__random_state=100; total time=   6.8s\n",
      "[CV 5/5] END classifier__bootstrap=True, classifier__max_depth=20, classifier__max_features=auto, classifier__n_estimators=400, classifier__random_state=100; total time=   6.8s\n",
      "[CV 1/5] END classifier__bootstrap=True, classifier__max_depth=20, classifier__max_features=auto, classifier__n_estimators=400, classifier__random_state=200; total time=   6.9s\n",
      "[CV 2/5] END classifier__bootstrap=True, classifier__max_depth=20, classifier__max_features=auto, classifier__n_estimators=400, classifier__random_state=200; total time=   6.8s\n",
      "[CV 3/5] END classifier__bootstrap=True, classifier__max_depth=20, classifier__max_features=auto, classifier__n_estimators=400, classifier__random_state=200; total time=   7.3s\n",
      "[CV 4/5] END classifier__bootstrap=True, classifier__max_depth=20, classifier__max_features=auto, classifier__n_estimators=400, classifier__random_state=200; total time=   7.2s\n",
      "[CV 5/5] END classifier__bootstrap=True, classifier__max_depth=20, classifier__max_features=auto, classifier__n_estimators=400, classifier__random_state=200; total time=   6.8s\n",
      "[CV 1/5] END classifier__bootstrap=True, classifier__max_depth=20, classifier__max_features=sqrt, classifier__n_estimators=200, classifier__random_state=100; total time=   3.4s\n",
      "[CV 2/5] END classifier__bootstrap=True, classifier__max_depth=20, classifier__max_features=sqrt, classifier__n_estimators=200, classifier__random_state=100; total time=   3.4s\n",
      "[CV 3/5] END classifier__bootstrap=True, classifier__max_depth=20, classifier__max_features=sqrt, classifier__n_estimators=200, classifier__random_state=100; total time=   3.2s\n",
      "[CV 4/5] END classifier__bootstrap=True, classifier__max_depth=20, classifier__max_features=sqrt, classifier__n_estimators=200, classifier__random_state=100; total time=   3.4s\n",
      "[CV 5/5] END classifier__bootstrap=True, classifier__max_depth=20, classifier__max_features=sqrt, classifier__n_estimators=200, classifier__random_state=100; total time=   3.3s\n",
      "[CV 1/5] END classifier__bootstrap=True, classifier__max_depth=20, classifier__max_features=sqrt, classifier__n_estimators=200, classifier__random_state=200; total time=   3.4s\n",
      "[CV 2/5] END classifier__bootstrap=True, classifier__max_depth=20, classifier__max_features=sqrt, classifier__n_estimators=200, classifier__random_state=200; total time=   3.3s\n",
      "[CV 3/5] END classifier__bootstrap=True, classifier__max_depth=20, classifier__max_features=sqrt, classifier__n_estimators=200, classifier__random_state=200; total time=   3.2s\n",
      "[CV 4/5] END classifier__bootstrap=True, classifier__max_depth=20, classifier__max_features=sqrt, classifier__n_estimators=200, classifier__random_state=200; total time=   3.4s\n",
      "[CV 5/5] END classifier__bootstrap=True, classifier__max_depth=20, classifier__max_features=sqrt, classifier__n_estimators=200, classifier__random_state=200; total time=   3.3s\n",
      "[CV 1/5] END classifier__bootstrap=True, classifier__max_depth=20, classifier__max_features=sqrt, classifier__n_estimators=400, classifier__random_state=100; total time=   6.8s\n",
      "[CV 2/5] END classifier__bootstrap=True, classifier__max_depth=20, classifier__max_features=sqrt, classifier__n_estimators=400, classifier__random_state=100; total time=   6.7s\n",
      "[CV 3/5] END classifier__bootstrap=True, classifier__max_depth=20, classifier__max_features=sqrt, classifier__n_estimators=400, classifier__random_state=100; total time=   6.6s\n",
      "[CV 4/5] END classifier__bootstrap=True, classifier__max_depth=20, classifier__max_features=sqrt, classifier__n_estimators=400, classifier__random_state=100; total time=   6.8s\n",
      "[CV 5/5] END classifier__bootstrap=True, classifier__max_depth=20, classifier__max_features=sqrt, classifier__n_estimators=400, classifier__random_state=100; total time=   6.8s\n",
      "[CV 1/5] END classifier__bootstrap=True, classifier__max_depth=20, classifier__max_features=sqrt, classifier__n_estimators=400, classifier__random_state=200; total time=   7.4s\n",
      "[CV 2/5] END classifier__bootstrap=True, classifier__max_depth=20, classifier__max_features=sqrt, classifier__n_estimators=400, classifier__random_state=200; total time=   6.9s\n",
      "[CV 3/5] END classifier__bootstrap=True, classifier__max_depth=20, classifier__max_features=sqrt, classifier__n_estimators=400, classifier__random_state=200; total time=   6.6s\n",
      "[CV 4/5] END classifier__bootstrap=True, classifier__max_depth=20, classifier__max_features=sqrt, classifier__n_estimators=400, classifier__random_state=200; total time=   6.8s\n",
      "[CV 5/5] END classifier__bootstrap=True, classifier__max_depth=20, classifier__max_features=sqrt, classifier__n_estimators=400, classifier__random_state=200; total time=   6.8s\n",
      "[CV 1/5] END classifier__bootstrap=True, classifier__max_depth=None, classifier__max_features=auto, classifier__n_estimators=200, classifier__random_state=100; total time=   3.4s\n",
      "[CV 2/5] END classifier__bootstrap=True, classifier__max_depth=None, classifier__max_features=auto, classifier__n_estimators=200, classifier__random_state=100; total time=   3.4s\n",
      "[CV 3/5] END classifier__bootstrap=True, classifier__max_depth=None, classifier__max_features=auto, classifier__n_estimators=200, classifier__random_state=100; total time=   3.3s\n",
      "[CV 4/5] END classifier__bootstrap=True, classifier__max_depth=None, classifier__max_features=auto, classifier__n_estimators=200, classifier__random_state=100; total time=   3.4s\n",
      "[CV 5/5] END classifier__bootstrap=True, classifier__max_depth=None, classifier__max_features=auto, classifier__n_estimators=200, classifier__random_state=100; total time=   3.4s\n",
      "[CV 1/5] END classifier__bootstrap=True, classifier__max_depth=None, classifier__max_features=auto, classifier__n_estimators=200, classifier__random_state=200; total time=   3.5s\n",
      "[CV 2/5] END classifier__bootstrap=True, classifier__max_depth=None, classifier__max_features=auto, classifier__n_estimators=200, classifier__random_state=200; total time=   3.9s\n",
      "[CV 3/5] END classifier__bootstrap=True, classifier__max_depth=None, classifier__max_features=auto, classifier__n_estimators=200, classifier__random_state=200; total time=   3.3s\n",
      "[CV 4/5] END classifier__bootstrap=True, classifier__max_depth=None, classifier__max_features=auto, classifier__n_estimators=200, classifier__random_state=200; total time=   3.5s\n",
      "[CV 5/5] END classifier__bootstrap=True, classifier__max_depth=None, classifier__max_features=auto, classifier__n_estimators=200, classifier__random_state=200; total time=   3.5s\n",
      "[CV 1/5] END classifier__bootstrap=True, classifier__max_depth=None, classifier__max_features=auto, classifier__n_estimators=400, classifier__random_state=100; total time=   7.7s\n",
      "[CV 2/5] END classifier__bootstrap=True, classifier__max_depth=None, classifier__max_features=auto, classifier__n_estimators=400, classifier__random_state=100; total time=   8.5s\n",
      "[CV 3/5] END classifier__bootstrap=True, classifier__max_depth=None, classifier__max_features=auto, classifier__n_estimators=400, classifier__random_state=100; total time=  10.5s\n"
     ]
    },
    {
     "name": "stdout",
     "output_type": "stream",
     "text": [
      "[CV 4/5] END classifier__bootstrap=True, classifier__max_depth=None, classifier__max_features=auto, classifier__n_estimators=400, classifier__random_state=100; total time=   7.5s\n",
      "[CV 5/5] END classifier__bootstrap=True, classifier__max_depth=None, classifier__max_features=auto, classifier__n_estimators=400, classifier__random_state=100; total time=   8.0s\n",
      "[CV 1/5] END classifier__bootstrap=True, classifier__max_depth=None, classifier__max_features=auto, classifier__n_estimators=400, classifier__random_state=200; total time=   8.4s\n",
      "[CV 2/5] END classifier__bootstrap=True, classifier__max_depth=None, classifier__max_features=auto, classifier__n_estimators=400, classifier__random_state=200; total time=   7.0s\n",
      "[CV 3/5] END classifier__bootstrap=True, classifier__max_depth=None, classifier__max_features=auto, classifier__n_estimators=400, classifier__random_state=200; total time=   6.9s\n",
      "[CV 4/5] END classifier__bootstrap=True, classifier__max_depth=None, classifier__max_features=auto, classifier__n_estimators=400, classifier__random_state=200; total time=   8.2s\n",
      "[CV 5/5] END classifier__bootstrap=True, classifier__max_depth=None, classifier__max_features=auto, classifier__n_estimators=400, classifier__random_state=200; total time=   7.7s\n",
      "[CV 1/5] END classifier__bootstrap=True, classifier__max_depth=None, classifier__max_features=sqrt, classifier__n_estimators=200, classifier__random_state=100; total time=   3.8s\n",
      "[CV 2/5] END classifier__bootstrap=True, classifier__max_depth=None, classifier__max_features=sqrt, classifier__n_estimators=200, classifier__random_state=100; total time=   3.5s\n",
      "[CV 3/5] END classifier__bootstrap=True, classifier__max_depth=None, classifier__max_features=sqrt, classifier__n_estimators=200, classifier__random_state=100; total time=   3.4s\n",
      "[CV 4/5] END classifier__bootstrap=True, classifier__max_depth=None, classifier__max_features=sqrt, classifier__n_estimators=200, classifier__random_state=100; total time=   3.9s\n",
      "[CV 5/5] END classifier__bootstrap=True, classifier__max_depth=None, classifier__max_features=sqrt, classifier__n_estimators=200, classifier__random_state=100; total time=   4.6s\n",
      "[CV 1/5] END classifier__bootstrap=True, classifier__max_depth=None, classifier__max_features=sqrt, classifier__n_estimators=200, classifier__random_state=200; total time=   4.5s\n",
      "[CV 2/5] END classifier__bootstrap=True, classifier__max_depth=None, classifier__max_features=sqrt, classifier__n_estimators=200, classifier__random_state=200; total time=   5.3s\n",
      "[CV 3/5] END classifier__bootstrap=True, classifier__max_depth=None, classifier__max_features=sqrt, classifier__n_estimators=200, classifier__random_state=200; total time=   4.1s\n",
      "[CV 4/5] END classifier__bootstrap=True, classifier__max_depth=None, classifier__max_features=sqrt, classifier__n_estimators=200, classifier__random_state=200; total time=   3.7s\n",
      "[CV 5/5] END classifier__bootstrap=True, classifier__max_depth=None, classifier__max_features=sqrt, classifier__n_estimators=200, classifier__random_state=200; total time=   3.8s\n",
      "[CV 1/5] END classifier__bootstrap=True, classifier__max_depth=None, classifier__max_features=sqrt, classifier__n_estimators=400, classifier__random_state=100; total time=   7.4s\n",
      "[CV 2/5] END classifier__bootstrap=True, classifier__max_depth=None, classifier__max_features=sqrt, classifier__n_estimators=400, classifier__random_state=100; total time=   7.3s\n",
      "[CV 3/5] END classifier__bootstrap=True, classifier__max_depth=None, classifier__max_features=sqrt, classifier__n_estimators=400, classifier__random_state=100; total time=   7.7s\n",
      "[CV 4/5] END classifier__bootstrap=True, classifier__max_depth=None, classifier__max_features=sqrt, classifier__n_estimators=400, classifier__random_state=100; total time=   6.9s\n",
      "[CV 5/5] END classifier__bootstrap=True, classifier__max_depth=None, classifier__max_features=sqrt, classifier__n_estimators=400, classifier__random_state=100; total time=   8.8s\n",
      "[CV 1/5] END classifier__bootstrap=True, classifier__max_depth=None, classifier__max_features=sqrt, classifier__n_estimators=400, classifier__random_state=200; total time=   8.2s\n",
      "[CV 2/5] END classifier__bootstrap=True, classifier__max_depth=None, classifier__max_features=sqrt, classifier__n_estimators=400, classifier__random_state=200; total time=   8.4s\n",
      "[CV 3/5] END classifier__bootstrap=True, classifier__max_depth=None, classifier__max_features=sqrt, classifier__n_estimators=400, classifier__random_state=200; total time=   6.7s\n",
      "[CV 4/5] END classifier__bootstrap=True, classifier__max_depth=None, classifier__max_features=sqrt, classifier__n_estimators=400, classifier__random_state=200; total time=   7.5s\n",
      "[CV 5/5] END classifier__bootstrap=True, classifier__max_depth=None, classifier__max_features=sqrt, classifier__n_estimators=400, classifier__random_state=200; total time=   7.0s\n",
      "[CV 1/5] END classifier__bootstrap=False, classifier__max_depth=10, classifier__max_features=auto, classifier__n_estimators=200, classifier__random_state=100; total time=   4.1s\n",
      "[CV 2/5] END classifier__bootstrap=False, classifier__max_depth=10, classifier__max_features=auto, classifier__n_estimators=200, classifier__random_state=100; total time=   4.1s\n",
      "[CV 3/5] END classifier__bootstrap=False, classifier__max_depth=10, classifier__max_features=auto, classifier__n_estimators=200, classifier__random_state=100; total time=   4.0s\n",
      "[CV 4/5] END classifier__bootstrap=False, classifier__max_depth=10, classifier__max_features=auto, classifier__n_estimators=200, classifier__random_state=100; total time=   4.2s\n",
      "[CV 5/5] END classifier__bootstrap=False, classifier__max_depth=10, classifier__max_features=auto, classifier__n_estimators=200, classifier__random_state=100; total time=   4.2s\n",
      "[CV 1/5] END classifier__bootstrap=False, classifier__max_depth=10, classifier__max_features=auto, classifier__n_estimators=200, classifier__random_state=200; total time=   4.1s\n",
      "[CV 2/5] END classifier__bootstrap=False, classifier__max_depth=10, classifier__max_features=auto, classifier__n_estimators=200, classifier__random_state=200; total time=   4.2s\n",
      "[CV 3/5] END classifier__bootstrap=False, classifier__max_depth=10, classifier__max_features=auto, classifier__n_estimators=200, classifier__random_state=200; total time=   4.0s\n",
      "[CV 4/5] END classifier__bootstrap=False, classifier__max_depth=10, classifier__max_features=auto, classifier__n_estimators=200, classifier__random_state=200; total time=   4.2s\n",
      "[CV 5/5] END classifier__bootstrap=False, classifier__max_depth=10, classifier__max_features=auto, classifier__n_estimators=200, classifier__random_state=200; total time=   4.1s\n",
      "[CV 1/5] END classifier__bootstrap=False, classifier__max_depth=10, classifier__max_features=auto, classifier__n_estimators=400, classifier__random_state=100; total time=   8.4s\n",
      "[CV 2/5] END classifier__bootstrap=False, classifier__max_depth=10, classifier__max_features=auto, classifier__n_estimators=400, classifier__random_state=100; total time=   8.5s\n",
      "[CV 3/5] END classifier__bootstrap=False, classifier__max_depth=10, classifier__max_features=auto, classifier__n_estimators=400, classifier__random_state=100; total time=   8.1s\n",
      "[CV 4/5] END classifier__bootstrap=False, classifier__max_depth=10, classifier__max_features=auto, classifier__n_estimators=400, classifier__random_state=100; total time=   8.4s\n",
      "[CV 5/5] END classifier__bootstrap=False, classifier__max_depth=10, classifier__max_features=auto, classifier__n_estimators=400, classifier__random_state=100; total time=   8.4s\n",
      "[CV 1/5] END classifier__bootstrap=False, classifier__max_depth=10, classifier__max_features=auto, classifier__n_estimators=400, classifier__random_state=200; total time=   8.4s\n",
      "[CV 2/5] END classifier__bootstrap=False, classifier__max_depth=10, classifier__max_features=auto, classifier__n_estimators=400, classifier__random_state=200; total time=   8.5s\n",
      "[CV 3/5] END classifier__bootstrap=False, classifier__max_depth=10, classifier__max_features=auto, classifier__n_estimators=400, classifier__random_state=200; total time=   8.1s\n",
      "[CV 4/5] END classifier__bootstrap=False, classifier__max_depth=10, classifier__max_features=auto, classifier__n_estimators=400, classifier__random_state=200; total time=   8.9s\n"
     ]
    },
    {
     "name": "stdout",
     "output_type": "stream",
     "text": [
      "[CV 5/5] END classifier__bootstrap=False, classifier__max_depth=10, classifier__max_features=auto, classifier__n_estimators=400, classifier__random_state=200; total time=   8.4s\n",
      "[CV 1/5] END classifier__bootstrap=False, classifier__max_depth=10, classifier__max_features=sqrt, classifier__n_estimators=200, classifier__random_state=100; total time=   4.1s\n",
      "[CV 2/5] END classifier__bootstrap=False, classifier__max_depth=10, classifier__max_features=sqrt, classifier__n_estimators=200, classifier__random_state=100; total time=   4.2s\n",
      "[CV 3/5] END classifier__bootstrap=False, classifier__max_depth=10, classifier__max_features=sqrt, classifier__n_estimators=200, classifier__random_state=100; total time=   4.0s\n",
      "[CV 4/5] END classifier__bootstrap=False, classifier__max_depth=10, classifier__max_features=sqrt, classifier__n_estimators=200, classifier__random_state=100; total time=   4.2s\n",
      "[CV 5/5] END classifier__bootstrap=False, classifier__max_depth=10, classifier__max_features=sqrt, classifier__n_estimators=200, classifier__random_state=100; total time=   4.1s\n",
      "[CV 1/5] END classifier__bootstrap=False, classifier__max_depth=10, classifier__max_features=sqrt, classifier__n_estimators=200, classifier__random_state=200; total time=   4.1s\n",
      "[CV 2/5] END classifier__bootstrap=False, classifier__max_depth=10, classifier__max_features=sqrt, classifier__n_estimators=200, classifier__random_state=200; total time=   4.1s\n",
      "[CV 3/5] END classifier__bootstrap=False, classifier__max_depth=10, classifier__max_features=sqrt, classifier__n_estimators=200, classifier__random_state=200; total time=   4.0s\n",
      "[CV 4/5] END classifier__bootstrap=False, classifier__max_depth=10, classifier__max_features=sqrt, classifier__n_estimators=200, classifier__random_state=200; total time=   4.2s\n",
      "[CV 5/5] END classifier__bootstrap=False, classifier__max_depth=10, classifier__max_features=sqrt, classifier__n_estimators=200, classifier__random_state=200; total time=   4.1s\n",
      "[CV 1/5] END classifier__bootstrap=False, classifier__max_depth=10, classifier__max_features=sqrt, classifier__n_estimators=400, classifier__random_state=100; total time=   8.2s\n",
      "[CV 2/5] END classifier__bootstrap=False, classifier__max_depth=10, classifier__max_features=sqrt, classifier__n_estimators=400, classifier__random_state=100; total time=   8.4s\n",
      "[CV 3/5] END classifier__bootstrap=False, classifier__max_depth=10, classifier__max_features=sqrt, classifier__n_estimators=400, classifier__random_state=100; total time=   8.1s\n",
      "[CV 4/5] END classifier__bootstrap=False, classifier__max_depth=10, classifier__max_features=sqrt, classifier__n_estimators=400, classifier__random_state=100; total time=   8.3s\n",
      "[CV 5/5] END classifier__bootstrap=False, classifier__max_depth=10, classifier__max_features=sqrt, classifier__n_estimators=400, classifier__random_state=100; total time=   8.5s\n",
      "[CV 1/5] END classifier__bootstrap=False, classifier__max_depth=10, classifier__max_features=sqrt, classifier__n_estimators=400, classifier__random_state=200; total time=   8.3s\n",
      "[CV 2/5] END classifier__bootstrap=False, classifier__max_depth=10, classifier__max_features=sqrt, classifier__n_estimators=400, classifier__random_state=200; total time=   8.4s\n",
      "[CV 3/5] END classifier__bootstrap=False, classifier__max_depth=10, classifier__max_features=sqrt, classifier__n_estimators=400, classifier__random_state=200; total time=   8.3s\n",
      "[CV 4/5] END classifier__bootstrap=False, classifier__max_depth=10, classifier__max_features=sqrt, classifier__n_estimators=400, classifier__random_state=200; total time=   8.3s\n",
      "[CV 5/5] END classifier__bootstrap=False, classifier__max_depth=10, classifier__max_features=sqrt, classifier__n_estimators=400, classifier__random_state=200; total time=   8.3s\n",
      "[CV 1/5] END classifier__bootstrap=False, classifier__max_depth=20, classifier__max_features=auto, classifier__n_estimators=200, classifier__random_state=100; total time=   5.4s\n",
      "[CV 2/5] END classifier__bootstrap=False, classifier__max_depth=20, classifier__max_features=auto, classifier__n_estimators=200, classifier__random_state=100; total time=   5.4s\n",
      "[CV 3/5] END classifier__bootstrap=False, classifier__max_depth=20, classifier__max_features=auto, classifier__n_estimators=200, classifier__random_state=100; total time=   5.2s\n",
      "[CV 4/5] END classifier__bootstrap=False, classifier__max_depth=20, classifier__max_features=auto, classifier__n_estimators=200, classifier__random_state=100; total time=   5.4s\n",
      "[CV 5/5] END classifier__bootstrap=False, classifier__max_depth=20, classifier__max_features=auto, classifier__n_estimators=200, classifier__random_state=100; total time=   5.3s\n",
      "[CV 1/5] END classifier__bootstrap=False, classifier__max_depth=20, classifier__max_features=auto, classifier__n_estimators=200, classifier__random_state=200; total time=   5.4s\n",
      "[CV 2/5] END classifier__bootstrap=False, classifier__max_depth=20, classifier__max_features=auto, classifier__n_estimators=200, classifier__random_state=200; total time=   5.4s\n",
      "[CV 3/5] END classifier__bootstrap=False, classifier__max_depth=20, classifier__max_features=auto, classifier__n_estimators=200, classifier__random_state=200; total time=   5.3s\n",
      "[CV 4/5] END classifier__bootstrap=False, classifier__max_depth=20, classifier__max_features=auto, classifier__n_estimators=200, classifier__random_state=200; total time=   5.5s\n",
      "[CV 5/5] END classifier__bootstrap=False, classifier__max_depth=20, classifier__max_features=auto, classifier__n_estimators=200, classifier__random_state=200; total time=   5.4s\n",
      "[CV 1/5] END classifier__bootstrap=False, classifier__max_depth=20, classifier__max_features=auto, classifier__n_estimators=400, classifier__random_state=100; total time=  11.2s\n",
      "[CV 2/5] END classifier__bootstrap=False, classifier__max_depth=20, classifier__max_features=auto, classifier__n_estimators=400, classifier__random_state=100; total time=  10.9s\n",
      "[CV 3/5] END classifier__bootstrap=False, classifier__max_depth=20, classifier__max_features=auto, classifier__n_estimators=400, classifier__random_state=100; total time=  11.5s\n",
      "[CV 4/5] END classifier__bootstrap=False, classifier__max_depth=20, classifier__max_features=auto, classifier__n_estimators=400, classifier__random_state=100; total time=  11.2s\n",
      "[CV 5/5] END classifier__bootstrap=False, classifier__max_depth=20, classifier__max_features=auto, classifier__n_estimators=400, classifier__random_state=100; total time=  11.1s\n",
      "[CV 1/5] END classifier__bootstrap=False, classifier__max_depth=20, classifier__max_features=auto, classifier__n_estimators=400, classifier__random_state=200; total time=  11.6s\n",
      "[CV 2/5] END classifier__bootstrap=False, classifier__max_depth=20, classifier__max_features=auto, classifier__n_estimators=400, classifier__random_state=200; total time=  11.0s\n",
      "[CV 3/5] END classifier__bootstrap=False, classifier__max_depth=20, classifier__max_features=auto, classifier__n_estimators=400, classifier__random_state=200; total time=  10.5s\n",
      "[CV 4/5] END classifier__bootstrap=False, classifier__max_depth=20, classifier__max_features=auto, classifier__n_estimators=400, classifier__random_state=200; total time=  10.9s\n",
      "[CV 5/5] END classifier__bootstrap=False, classifier__max_depth=20, classifier__max_features=auto, classifier__n_estimators=400, classifier__random_state=200; total time=  10.7s\n",
      "[CV 1/5] END classifier__bootstrap=False, classifier__max_depth=20, classifier__max_features=sqrt, classifier__n_estimators=200, classifier__random_state=100; total time=   5.4s\n",
      "[CV 2/5] END classifier__bootstrap=False, classifier__max_depth=20, classifier__max_features=sqrt, classifier__n_estimators=200, classifier__random_state=100; total time=   5.4s\n",
      "[CV 3/5] END classifier__bootstrap=False, classifier__max_depth=20, classifier__max_features=sqrt, classifier__n_estimators=200, classifier__random_state=100; total time=   5.2s\n",
      "[CV 4/5] END classifier__bootstrap=False, classifier__max_depth=20, classifier__max_features=sqrt, classifier__n_estimators=200, classifier__random_state=100; total time=   5.4s\n",
      "[CV 5/5] END classifier__bootstrap=False, classifier__max_depth=20, classifier__max_features=sqrt, classifier__n_estimators=200, classifier__random_state=100; total time=   5.4s\n",
      "[CV 1/5] END classifier__bootstrap=False, classifier__max_depth=20, classifier__max_features=sqrt, classifier__n_estimators=200, classifier__random_state=200; total time=   5.9s\n"
     ]
    },
    {
     "name": "stdout",
     "output_type": "stream",
     "text": [
      "[CV 2/5] END classifier__bootstrap=False, classifier__max_depth=20, classifier__max_features=sqrt, classifier__n_estimators=200, classifier__random_state=200; total time=   5.7s\n",
      "[CV 3/5] END classifier__bootstrap=False, classifier__max_depth=20, classifier__max_features=sqrt, classifier__n_estimators=200, classifier__random_state=200; total time=   8.4s\n",
      "[CV 4/5] END classifier__bootstrap=False, classifier__max_depth=20, classifier__max_features=sqrt, classifier__n_estimators=200, classifier__random_state=200; total time=   6.2s\n",
      "[CV 5/5] END classifier__bootstrap=False, classifier__max_depth=20, classifier__max_features=sqrt, classifier__n_estimators=200, classifier__random_state=200; total time=   5.4s\n",
      "[CV 1/5] END classifier__bootstrap=False, classifier__max_depth=20, classifier__max_features=sqrt, classifier__n_estimators=400, classifier__random_state=100; total time=  13.5s\n",
      "[CV 2/5] END classifier__bootstrap=False, classifier__max_depth=20, classifier__max_features=sqrt, classifier__n_estimators=400, classifier__random_state=100; total time=  13.1s\n",
      "[CV 3/5] END classifier__bootstrap=False, classifier__max_depth=20, classifier__max_features=sqrt, classifier__n_estimators=400, classifier__random_state=100; total time=  12.1s\n",
      "[CV 4/5] END classifier__bootstrap=False, classifier__max_depth=20, classifier__max_features=sqrt, classifier__n_estimators=400, classifier__random_state=100; total time=  11.7s\n",
      "[CV 5/5] END classifier__bootstrap=False, classifier__max_depth=20, classifier__max_features=sqrt, classifier__n_estimators=400, classifier__random_state=100; total time=  10.8s\n",
      "[CV 1/5] END classifier__bootstrap=False, classifier__max_depth=20, classifier__max_features=sqrt, classifier__n_estimators=400, classifier__random_state=200; total time=  10.8s\n",
      "[CV 2/5] END classifier__bootstrap=False, classifier__max_depth=20, classifier__max_features=sqrt, classifier__n_estimators=400, classifier__random_state=200; total time=  10.8s\n",
      "[CV 3/5] END classifier__bootstrap=False, classifier__max_depth=20, classifier__max_features=sqrt, classifier__n_estimators=400, classifier__random_state=200; total time=  10.4s\n",
      "[CV 4/5] END classifier__bootstrap=False, classifier__max_depth=20, classifier__max_features=sqrt, classifier__n_estimators=400, classifier__random_state=200; total time=  10.8s\n",
      "[CV 5/5] END classifier__bootstrap=False, classifier__max_depth=20, classifier__max_features=sqrt, classifier__n_estimators=400, classifier__random_state=200; total time=  10.7s\n",
      "[CV 1/5] END classifier__bootstrap=False, classifier__max_depth=None, classifier__max_features=auto, classifier__n_estimators=200, classifier__random_state=100; total time=   5.5s\n",
      "[CV 2/5] END classifier__bootstrap=False, classifier__max_depth=None, classifier__max_features=auto, classifier__n_estimators=200, classifier__random_state=100; total time=   5.5s\n",
      "[CV 3/5] END classifier__bootstrap=False, classifier__max_depth=None, classifier__max_features=auto, classifier__n_estimators=200, classifier__random_state=100; total time=   5.2s\n",
      "[CV 4/5] END classifier__bootstrap=False, classifier__max_depth=None, classifier__max_features=auto, classifier__n_estimators=200, classifier__random_state=100; total time=   5.5s\n",
      "[CV 5/5] END classifier__bootstrap=False, classifier__max_depth=None, classifier__max_features=auto, classifier__n_estimators=200, classifier__random_state=100; total time=   5.4s\n",
      "[CV 1/5] END classifier__bootstrap=False, classifier__max_depth=None, classifier__max_features=auto, classifier__n_estimators=200, classifier__random_state=200; total time=   5.5s\n",
      "[CV 2/5] END classifier__bootstrap=False, classifier__max_depth=None, classifier__max_features=auto, classifier__n_estimators=200, classifier__random_state=200; total time=   5.5s\n",
      "[CV 3/5] END classifier__bootstrap=False, classifier__max_depth=None, classifier__max_features=auto, classifier__n_estimators=200, classifier__random_state=200; total time=   5.3s\n",
      "[CV 4/5] END classifier__bootstrap=False, classifier__max_depth=None, classifier__max_features=auto, classifier__n_estimators=200, classifier__random_state=200; total time=   5.5s\n",
      "[CV 5/5] END classifier__bootstrap=False, classifier__max_depth=None, classifier__max_features=auto, classifier__n_estimators=200, classifier__random_state=200; total time=   5.4s\n",
      "[CV 1/5] END classifier__bootstrap=False, classifier__max_depth=None, classifier__max_features=auto, classifier__n_estimators=400, classifier__random_state=100; total time=  11.0s\n",
      "[CV 2/5] END classifier__bootstrap=False, classifier__max_depth=None, classifier__max_features=auto, classifier__n_estimators=400, classifier__random_state=100; total time=  11.0s\n",
      "[CV 3/5] END classifier__bootstrap=False, classifier__max_depth=None, classifier__max_features=auto, classifier__n_estimators=400, classifier__random_state=100; total time=  10.6s\n",
      "[CV 4/5] END classifier__bootstrap=False, classifier__max_depth=None, classifier__max_features=auto, classifier__n_estimators=400, classifier__random_state=100; total time=  11.1s\n",
      "[CV 5/5] END classifier__bootstrap=False, classifier__max_depth=None, classifier__max_features=auto, classifier__n_estimators=400, classifier__random_state=100; total time=  10.9s\n",
      "[CV 1/5] END classifier__bootstrap=False, classifier__max_depth=None, classifier__max_features=auto, classifier__n_estimators=400, classifier__random_state=200; total time=  11.0s\n",
      "[CV 2/5] END classifier__bootstrap=False, classifier__max_depth=None, classifier__max_features=auto, classifier__n_estimators=400, classifier__random_state=200; total time=  11.4s\n",
      "[CV 3/5] END classifier__bootstrap=False, classifier__max_depth=None, classifier__max_features=auto, classifier__n_estimators=400, classifier__random_state=200; total time=  10.5s\n",
      "[CV 4/5] END classifier__bootstrap=False, classifier__max_depth=None, classifier__max_features=auto, classifier__n_estimators=400, classifier__random_state=200; total time=  11.0s\n",
      "[CV 5/5] END classifier__bootstrap=False, classifier__max_depth=None, classifier__max_features=auto, classifier__n_estimators=400, classifier__random_state=200; total time=  11.0s\n",
      "[CV 1/5] END classifier__bootstrap=False, classifier__max_depth=None, classifier__max_features=sqrt, classifier__n_estimators=200, classifier__random_state=100; total time=   5.8s\n",
      "[CV 2/5] END classifier__bootstrap=False, classifier__max_depth=None, classifier__max_features=sqrt, classifier__n_estimators=200, classifier__random_state=100; total time=   5.4s\n",
      "[CV 3/5] END classifier__bootstrap=False, classifier__max_depth=None, classifier__max_features=sqrt, classifier__n_estimators=200, classifier__random_state=100; total time=   5.8s\n",
      "[CV 4/5] END classifier__bootstrap=False, classifier__max_depth=None, classifier__max_features=sqrt, classifier__n_estimators=200, classifier__random_state=100; total time=   5.5s\n",
      "[CV 5/5] END classifier__bootstrap=False, classifier__max_depth=None, classifier__max_features=sqrt, classifier__n_estimators=200, classifier__random_state=100; total time=   5.5s\n",
      "[CV 1/5] END classifier__bootstrap=False, classifier__max_depth=None, classifier__max_features=sqrt, classifier__n_estimators=200, classifier__random_state=200; total time=   5.5s\n",
      "[CV 2/5] END classifier__bootstrap=False, classifier__max_depth=None, classifier__max_features=sqrt, classifier__n_estimators=200, classifier__random_state=200; total time=   5.6s\n",
      "[CV 3/5] END classifier__bootstrap=False, classifier__max_depth=None, classifier__max_features=sqrt, classifier__n_estimators=200, classifier__random_state=200; total time=   5.2s\n",
      "[CV 4/5] END classifier__bootstrap=False, classifier__max_depth=None, classifier__max_features=sqrt, classifier__n_estimators=200, classifier__random_state=200; total time=   5.5s\n",
      "[CV 5/5] END classifier__bootstrap=False, classifier__max_depth=None, classifier__max_features=sqrt, classifier__n_estimators=200, classifier__random_state=200; total time=   5.9s\n",
      "[CV 1/5] END classifier__bootstrap=False, classifier__max_depth=None, classifier__max_features=sqrt, classifier__n_estimators=400, classifier__random_state=100; total time=  11.2s\n",
      "[CV 2/5] END classifier__bootstrap=False, classifier__max_depth=None, classifier__max_features=sqrt, classifier__n_estimators=400, classifier__random_state=100; total time=  11.0s\n"
     ]
    },
    {
     "name": "stdout",
     "output_type": "stream",
     "text": [
      "[CV 3/5] END classifier__bootstrap=False, classifier__max_depth=None, classifier__max_features=sqrt, classifier__n_estimators=400, classifier__random_state=100; total time=  10.5s\n",
      "[CV 4/5] END classifier__bootstrap=False, classifier__max_depth=None, classifier__max_features=sqrt, classifier__n_estimators=400, classifier__random_state=100; total time=  11.0s\n",
      "[CV 5/5] END classifier__bootstrap=False, classifier__max_depth=None, classifier__max_features=sqrt, classifier__n_estimators=400, classifier__random_state=100; total time=  10.9s\n",
      "[CV 1/5] END classifier__bootstrap=False, classifier__max_depth=None, classifier__max_features=sqrt, classifier__n_estimators=400, classifier__random_state=200; total time=  11.0s\n",
      "[CV 2/5] END classifier__bootstrap=False, classifier__max_depth=None, classifier__max_features=sqrt, classifier__n_estimators=400, classifier__random_state=200; total time=  11.1s\n",
      "[CV 3/5] END classifier__bootstrap=False, classifier__max_depth=None, classifier__max_features=sqrt, classifier__n_estimators=400, classifier__random_state=200; total time=  10.5s\n",
      "[CV 4/5] END classifier__bootstrap=False, classifier__max_depth=None, classifier__max_features=sqrt, classifier__n_estimators=400, classifier__random_state=200; total time=  11.1s\n",
      "[CV 5/5] END classifier__bootstrap=False, classifier__max_depth=None, classifier__max_features=sqrt, classifier__n_estimators=400, classifier__random_state=200; total time=  10.9s\n"
     ]
    },
    {
     "data": {
      "text/html": [
       "<style>div.sk-top-container {color: black;background-color: white;}div.sk-toggleable {background-color: white;}label.sk-toggleable__label {cursor: pointer;display: block;width: 100%;margin-bottom: 0;padding: 0.2em 0.3em;box-sizing: border-box;text-align: center;}div.sk-toggleable__content {max-height: 0;max-width: 0;overflow: hidden;text-align: left;background-color: #f0f8ff;}div.sk-toggleable__content pre {margin: 0.2em;color: black;border-radius: 0.25em;background-color: #f0f8ff;}input.sk-toggleable__control:checked~div.sk-toggleable__content {max-height: 200px;max-width: 100%;overflow: auto;}div.sk-estimator input.sk-toggleable__control:checked~label.sk-toggleable__label {background-color: #d4ebff;}div.sk-label input.sk-toggleable__control:checked~label.sk-toggleable__label {background-color: #d4ebff;}input.sk-hidden--visually {border: 0;clip: rect(1px 1px 1px 1px);clip: rect(1px, 1px, 1px, 1px);height: 1px;margin: -1px;overflow: hidden;padding: 0;position: absolute;width: 1px;}div.sk-estimator {font-family: monospace;background-color: #f0f8ff;margin: 0.25em 0.25em;border: 1px dotted black;border-radius: 0.25em;box-sizing: border-box;}div.sk-estimator:hover {background-color: #d4ebff;}div.sk-parallel-item::after {content: \"\";width: 100%;border-bottom: 1px solid gray;flex-grow: 1;}div.sk-label:hover label.sk-toggleable__label {background-color: #d4ebff;}div.sk-serial::before {content: \"\";position: absolute;border-left: 1px solid gray;box-sizing: border-box;top: 2em;bottom: 0;left: 50%;}div.sk-serial {display: flex;flex-direction: column;align-items: center;background-color: white;}div.sk-item {z-index: 1;}div.sk-parallel {display: flex;align-items: stretch;justify-content: center;background-color: white;}div.sk-parallel-item {display: flex;flex-direction: column;position: relative;background-color: white;}div.sk-parallel-item:first-child::after {align-self: flex-end;width: 50%;}div.sk-parallel-item:last-child::after {align-self: flex-start;width: 50%;}div.sk-parallel-item:only-child::after {width: 0;}div.sk-dashed-wrapped {border: 1px dashed gray;margin: 0.2em;box-sizing: border-box;padding-bottom: 0.1em;background-color: white;position: relative;}div.sk-label label {font-family: monospace;font-weight: bold;background-color: white;display: inline-block;line-height: 1.2em;}div.sk-label-container {position: relative;z-index: 2;text-align: center;}div.sk-container {display: inline-block;position: relative;}</style><div class=\"sk-top-container\"><div class=\"sk-container\"><div class=\"sk-item sk-dashed-wrapped\"><div class=\"sk-label-container\"><div class=\"sk-label sk-toggleable\"><input class=\"sk-toggleable__control sk-hidden--visually\" id=\"f80bd675-3eb6-4f97-9a5a-b49d19be5692\" type=\"checkbox\" ><label class=\"sk-toggleable__label\" for=\"f80bd675-3eb6-4f97-9a5a-b49d19be5692\">GridSearchCV</label><div class=\"sk-toggleable__content\"><pre>GridSearchCV(estimator=Pipeline(steps=[('balancing', SMOTE(random_state=20)),\n",
       "                                       ('scaling',\n",
       "                                        RobustScaler(quantile_range=(20.0,\n",
       "                                                                     90.0),\n",
       "                                                     with_scaling=False)),\n",
       "                                       ('classifier',\n",
       "                                        RandomForestClassifier())]),\n",
       "             param_grid={'classifier__bootstrap': [True, False],\n",
       "                         'classifier__max_depth': [10, 20, None],\n",
       "                         'classifier__max_features': ['auto', 'sqrt'],\n",
       "                         'classifier__n_estimators': [200, 400],\n",
       "                         'classifier__random_state': [100, 200]},\n",
       "             return_train_score=True, scoring='recall', verbose=3)</pre></div></div></div><div class=\"sk-parallel\"><div class=\"sk-parallel-item\"><div class=\"sk-item\"><div class=\"sk-serial\"><div class=\"sk-item\"><div class=\"sk-serial\"><div class=\"sk-item\"><div class=\"sk-estimator sk-toggleable\"><input class=\"sk-toggleable__control sk-hidden--visually\" id=\"c495111c-d884-4900-a903-fdc0d6636284\" type=\"checkbox\" ><label class=\"sk-toggleable__label\" for=\"c495111c-d884-4900-a903-fdc0d6636284\">SMOTE</label><div class=\"sk-toggleable__content\"><pre>SMOTE(random_state=20)</pre></div></div></div><div class=\"sk-item\"><div class=\"sk-estimator sk-toggleable\"><input class=\"sk-toggleable__control sk-hidden--visually\" id=\"d3cdee75-137d-471d-9d0c-70152b75698c\" type=\"checkbox\" ><label class=\"sk-toggleable__label\" for=\"d3cdee75-137d-471d-9d0c-70152b75698c\">RobustScaler</label><div class=\"sk-toggleable__content\"><pre>RobustScaler(quantile_range=(20.0, 90.0), with_scaling=False)</pre></div></div></div><div class=\"sk-item\"><div class=\"sk-estimator sk-toggleable\"><input class=\"sk-toggleable__control sk-hidden--visually\" id=\"44883170-f0c8-49ad-b052-bf8c9ac59849\" type=\"checkbox\" ><label class=\"sk-toggleable__label\" for=\"44883170-f0c8-49ad-b052-bf8c9ac59849\">RandomForestClassifier</label><div class=\"sk-toggleable__content\"><pre>RandomForestClassifier()</pre></div></div></div></div></div></div></div></div></div></div></div></div>"
      ],
      "text/plain": [
       "GridSearchCV(estimator=Pipeline(steps=[('balancing', SMOTE(random_state=20)),\n",
       "                                       ('scaling',\n",
       "                                        RobustScaler(quantile_range=(20.0,\n",
       "                                                                     90.0),\n",
       "                                                     with_scaling=False)),\n",
       "                                       ('classifier',\n",
       "                                        RandomForestClassifier())]),\n",
       "             param_grid={'classifier__bootstrap': [True, False],\n",
       "                         'classifier__max_depth': [10, 20, None],\n",
       "                         'classifier__max_features': ['auto', 'sqrt'],\n",
       "                         'classifier__n_estimators': [200, 400],\n",
       "                         'classifier__random_state': [100, 200]},\n",
       "             return_train_score=True, scoring='recall', verbose=3)"
      ]
     },
     "execution_count": 87,
     "metadata": {},
     "output_type": "execute_result"
    }
   ],
   "source": [
    "#search best param for model\n",
    "clf = GridSearchCV(estimator= bagging_pipeline,\n",
    "                   param_grid= param_grid,\n",
    "                   scoring ='recall',\n",
    "                   return_train_score=True,\n",
    "                   verbose=3)\n",
    "\n",
    "clf.fit(X_train, y_train)"
   ]
  },
  {
   "cell_type": "code",
   "execution_count": 88,
   "id": "3d8916e0",
   "metadata": {
    "scrolled": true
   },
   "outputs": [
    {
     "name": "stdout",
     "output_type": "stream",
     "text": [
      "Pipeline(steps=[('balancing', SMOTE(random_state=20)),\n",
      "                ('scaling',\n",
      "                 RobustScaler(quantile_range=(20.0, 90.0), with_scaling=False)),\n",
      "                ('classifier',\n",
      "                 RandomForestClassifier(max_depth=10, n_estimators=400,\n",
      "                                        random_state=100))])\n"
     ]
    }
   ],
   "source": [
    "best_estim= clf.best_estimator_\n",
    "print(best_estim)"
   ]
  },
  {
   "cell_type": "markdown",
   "id": "aea7e76a",
   "metadata": {},
   "source": [
    "## Pickle"
   ]
  },
  {
   "cell_type": "code",
   "execution_count": 13,
   "id": "b0f0a824",
   "metadata": {},
   "outputs": [
    {
     "data": {
      "text/html": [
       "<style>div.sk-top-container {color: black;background-color: white;}div.sk-toggleable {background-color: white;}label.sk-toggleable__label {cursor: pointer;display: block;width: 100%;margin-bottom: 0;padding: 0.2em 0.3em;box-sizing: border-box;text-align: center;}div.sk-toggleable__content {max-height: 0;max-width: 0;overflow: hidden;text-align: left;background-color: #f0f8ff;}div.sk-toggleable__content pre {margin: 0.2em;color: black;border-radius: 0.25em;background-color: #f0f8ff;}input.sk-toggleable__control:checked~div.sk-toggleable__content {max-height: 200px;max-width: 100%;overflow: auto;}div.sk-estimator input.sk-toggleable__control:checked~label.sk-toggleable__label {background-color: #d4ebff;}div.sk-label input.sk-toggleable__control:checked~label.sk-toggleable__label {background-color: #d4ebff;}input.sk-hidden--visually {border: 0;clip: rect(1px 1px 1px 1px);clip: rect(1px, 1px, 1px, 1px);height: 1px;margin: -1px;overflow: hidden;padding: 0;position: absolute;width: 1px;}div.sk-estimator {font-family: monospace;background-color: #f0f8ff;margin: 0.25em 0.25em;border: 1px dotted black;border-radius: 0.25em;box-sizing: border-box;}div.sk-estimator:hover {background-color: #d4ebff;}div.sk-parallel-item::after {content: \"\";width: 100%;border-bottom: 1px solid gray;flex-grow: 1;}div.sk-label:hover label.sk-toggleable__label {background-color: #d4ebff;}div.sk-serial::before {content: \"\";position: absolute;border-left: 1px solid gray;box-sizing: border-box;top: 2em;bottom: 0;left: 50%;}div.sk-serial {display: flex;flex-direction: column;align-items: center;background-color: white;}div.sk-item {z-index: 1;}div.sk-parallel {display: flex;align-items: stretch;justify-content: center;background-color: white;}div.sk-parallel-item {display: flex;flex-direction: column;position: relative;background-color: white;}div.sk-parallel-item:first-child::after {align-self: flex-end;width: 50%;}div.sk-parallel-item:last-child::after {align-self: flex-start;width: 50%;}div.sk-parallel-item:only-child::after {width: 0;}div.sk-dashed-wrapped {border: 1px dashed gray;margin: 0.2em;box-sizing: border-box;padding-bottom: 0.1em;background-color: white;position: relative;}div.sk-label label {font-family: monospace;font-weight: bold;background-color: white;display: inline-block;line-height: 1.2em;}div.sk-label-container {position: relative;z-index: 2;text-align: center;}div.sk-container {display: inline-block;position: relative;}</style><div class=\"sk-top-container\"><div class=\"sk-container\"><div class=\"sk-item sk-dashed-wrapped\"><div class=\"sk-label-container\"><div class=\"sk-label sk-toggleable\"><input class=\"sk-toggleable__control sk-hidden--visually\" id=\"42f46beb-91ee-4653-9579-da89590f6804\" type=\"checkbox\" ><label class=\"sk-toggleable__label\" for=\"42f46beb-91ee-4653-9579-da89590f6804\">Pipeline</label><div class=\"sk-toggleable__content\"><pre>Pipeline(steps=[('balancing', SMOTE(random_state=20)),\n",
       "                ('scaling',\n",
       "                 RobustScaler(quantile_range=(20.0, 90.0), with_scaling=False)),\n",
       "                ('classifier',\n",
       "                 BaggingClassifier(max_samples=0.05, n_estimators=5))])</pre></div></div></div><div class=\"sk-serial\"><div class=\"sk-item\"><div class=\"sk-estimator sk-toggleable\"><input class=\"sk-toggleable__control sk-hidden--visually\" id=\"98f33ca8-01f7-4d7f-a41b-4f4c3a43cec3\" type=\"checkbox\" ><label class=\"sk-toggleable__label\" for=\"98f33ca8-01f7-4d7f-a41b-4f4c3a43cec3\">SMOTE</label><div class=\"sk-toggleable__content\"><pre>SMOTE(random_state=20)</pre></div></div></div><div class=\"sk-item\"><div class=\"sk-estimator sk-toggleable\"><input class=\"sk-toggleable__control sk-hidden--visually\" id=\"d28080ba-1363-4b55-bc87-c6719149261f\" type=\"checkbox\" ><label class=\"sk-toggleable__label\" for=\"d28080ba-1363-4b55-bc87-c6719149261f\">RobustScaler</label><div class=\"sk-toggleable__content\"><pre>RobustScaler(quantile_range=(20.0, 90.0), with_scaling=False)</pre></div></div></div><div class=\"sk-item\"><div class=\"sk-estimator sk-toggleable\"><input class=\"sk-toggleable__control sk-hidden--visually\" id=\"df89403b-9a28-4092-8c5f-92651a6a8786\" type=\"checkbox\" ><label class=\"sk-toggleable__label\" for=\"df89403b-9a28-4092-8c5f-92651a6a8786\">BaggingClassifier</label><div class=\"sk-toggleable__content\"><pre>BaggingClassifier(max_samples=0.05, n_estimators=5)</pre></div></div></div></div></div></div></div>"
      ],
      "text/plain": [
       "Pipeline(steps=[('balancing', SMOTE(random_state=20)),\n",
       "                ('scaling',\n",
       "                 RobustScaler(quantile_range=(20.0, 90.0), with_scaling=False)),\n",
       "                ('classifier',\n",
       "                 BaggingClassifier(max_samples=0.05, n_estimators=5))])"
      ]
     },
     "execution_count": 13,
     "metadata": {},
     "output_type": "execute_result"
    }
   ],
   "source": [
    "pipe_training"
   ]
  },
  {
   "cell_type": "code",
   "execution_count": 9,
   "id": "5350a10c",
   "metadata": {},
   "outputs": [],
   "source": [
    "import pickle\n",
    "\n",
    "with open(\"pipe_training.pkl\", \"wb\") as file:\n",
    "    pickle.dump(pipe_training, file)"
   ]
  },
  {
   "cell_type": "code",
   "execution_count": null,
   "id": "fd5c4e53",
   "metadata": {},
   "outputs": [],
   "source": []
  }
 ],
 "metadata": {
  "kernelspec": {
   "display_name": "Python 3",
   "language": "python",
   "name": "python3"
  },
  "language_info": {
   "codemirror_mode": {
    "name": "ipython",
    "version": 3
   },
   "file_extension": ".py",
   "mimetype": "text/x-python",
   "name": "python",
   "nbconvert_exporter": "python",
   "pygments_lexer": "ipython3",
   "version": "3.8.8"
  }
 },
 "nbformat": 4,
 "nbformat_minor": 5
}
